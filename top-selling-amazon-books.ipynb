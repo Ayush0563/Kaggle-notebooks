{
 "cells": [
  {
   "cell_type": "markdown",
   "id": "d1e99cc3",
   "metadata": {
    "papermill": {
     "duration": 0.018065,
     "end_time": "2024-03-05T04:30:47.573145",
     "exception": false,
     "start_time": "2024-03-05T04:30:47.555080",
     "status": "completed"
    },
    "tags": []
   },
   "source": [
    "# Top Selling Amazon Books \n",
    "\n",
    "About the dataset:\n",
    "This dataset contains information about top selling books of Amazon(550 books) either belonging to fiction or non-fiction.\n",
    "\n"
   ]
  },
  {
   "cell_type": "markdown",
   "id": "f4f578c8",
   "metadata": {
    "papermill": {
     "duration": 0.017262,
     "end_time": "2024-03-05T04:30:47.608199",
     "exception": false,
     "start_time": "2024-03-05T04:30:47.590937",
     "status": "completed"
    },
    "tags": []
   },
   "source": [
    "# 1.Importing Libraries 😁\n",
    "\n"
   ]
  },
  {
   "cell_type": "code",
   "execution_count": 1,
   "id": "c990630b",
   "metadata": {
    "execution": {
     "iopub.execute_input": "2024-03-05T04:30:47.648341Z",
     "iopub.status.busy": "2024-03-05T04:30:47.647911Z",
     "iopub.status.idle": "2024-03-05T04:30:50.467167Z",
     "shell.execute_reply": "2024-03-05T04:30:50.465698Z"
    },
    "papermill": {
     "duration": 2.84206,
     "end_time": "2024-03-05T04:30:50.470119",
     "exception": false,
     "start_time": "2024-03-05T04:30:47.628059",
     "status": "completed"
    },
    "tags": []
   },
   "outputs": [],
   "source": [
    "import pandas as pd \n",
    "import numpy as np\n",
    "import matplotlib.pyplot as plt\n",
    "import seaborn as sns\n",
    "%matplotlib inline"
   ]
  },
  {
   "cell_type": "markdown",
   "id": "2430dd5a",
   "metadata": {
    "papermill": {
     "duration": 0.017849,
     "end_time": "2024-03-05T04:30:50.506818",
     "exception": false,
     "start_time": "2024-03-05T04:30:50.488969",
     "status": "completed"
    },
    "tags": []
   },
   "source": [
    "# 2.Loading the Dataset 🌠"
   ]
  },
  {
   "cell_type": "markdown",
   "id": "06465b1d",
   "metadata": {
    "papermill": {
     "duration": 0.01752,
     "end_time": "2024-03-05T04:30:50.541954",
     "exception": false,
     "start_time": "2024-03-05T04:30:50.524434",
     "status": "completed"
    },
    "tags": []
   },
   "source": [
    "Let's begin by downloading the data, and listing the files within the dataset."
   ]
  },
  {
   "cell_type": "code",
   "execution_count": 2,
   "id": "dd566a8b",
   "metadata": {
    "execution": {
     "iopub.execute_input": "2024-03-05T04:30:50.579885Z",
     "iopub.status.busy": "2024-03-05T04:30:50.579211Z",
     "iopub.status.idle": "2024-03-05T04:30:50.584879Z",
     "shell.execute_reply": "2024-03-05T04:30:50.583519Z"
    },
    "papermill": {
     "duration": 0.027543,
     "end_time": "2024-03-05T04:30:50.587207",
     "exception": false,
     "start_time": "2024-03-05T04:30:50.559664",
     "status": "completed"
    },
    "tags": []
   },
   "outputs": [],
   "source": [
    "dataset_url = '../input/amazon-top-50-bestselling-books-2009-2019/bestsellers with categories.csv'"
   ]
  },
  {
   "cell_type": "code",
   "execution_count": 3,
   "id": "b442d8c1",
   "metadata": {
    "execution": {
     "iopub.execute_input": "2024-03-05T04:30:50.627174Z",
     "iopub.status.busy": "2024-03-05T04:30:50.625710Z",
     "iopub.status.idle": "2024-03-05T04:30:50.667367Z",
     "shell.execute_reply": "2024-03-05T04:30:50.665911Z"
    },
    "papermill": {
     "duration": 0.065345,
     "end_time": "2024-03-05T04:30:50.670251",
     "exception": false,
     "start_time": "2024-03-05T04:30:50.604906",
     "status": "completed"
    },
    "tags": []
   },
   "outputs": [
    {
     "data": {
      "text/html": [
       "<div>\n",
       "<style scoped>\n",
       "    .dataframe tbody tr th:only-of-type {\n",
       "        vertical-align: middle;\n",
       "    }\n",
       "\n",
       "    .dataframe tbody tr th {\n",
       "        vertical-align: top;\n",
       "    }\n",
       "\n",
       "    .dataframe thead th {\n",
       "        text-align: right;\n",
       "    }\n",
       "</style>\n",
       "<table border=\"1\" class=\"dataframe\">\n",
       "  <thead>\n",
       "    <tr style=\"text-align: right;\">\n",
       "      <th></th>\n",
       "      <th>Name</th>\n",
       "      <th>Author</th>\n",
       "      <th>User Rating</th>\n",
       "      <th>Reviews</th>\n",
       "      <th>Price</th>\n",
       "      <th>Year</th>\n",
       "      <th>Genre</th>\n",
       "    </tr>\n",
       "  </thead>\n",
       "  <tbody>\n",
       "    <tr>\n",
       "      <th>0</th>\n",
       "      <td>10-Day Green Smoothie Cleanse</td>\n",
       "      <td>JJ Smith</td>\n",
       "      <td>4.7</td>\n",
       "      <td>17350</td>\n",
       "      <td>8</td>\n",
       "      <td>2016</td>\n",
       "      <td>Non Fiction</td>\n",
       "    </tr>\n",
       "    <tr>\n",
       "      <th>1</th>\n",
       "      <td>11/22/63: A Novel</td>\n",
       "      <td>Stephen King</td>\n",
       "      <td>4.6</td>\n",
       "      <td>2052</td>\n",
       "      <td>22</td>\n",
       "      <td>2011</td>\n",
       "      <td>Fiction</td>\n",
       "    </tr>\n",
       "    <tr>\n",
       "      <th>2</th>\n",
       "      <td>12 Rules for Life: An Antidote to Chaos</td>\n",
       "      <td>Jordan B. Peterson</td>\n",
       "      <td>4.7</td>\n",
       "      <td>18979</td>\n",
       "      <td>15</td>\n",
       "      <td>2018</td>\n",
       "      <td>Non Fiction</td>\n",
       "    </tr>\n",
       "    <tr>\n",
       "      <th>3</th>\n",
       "      <td>1984 (Signet Classics)</td>\n",
       "      <td>George Orwell</td>\n",
       "      <td>4.7</td>\n",
       "      <td>21424</td>\n",
       "      <td>6</td>\n",
       "      <td>2017</td>\n",
       "      <td>Fiction</td>\n",
       "    </tr>\n",
       "    <tr>\n",
       "      <th>4</th>\n",
       "      <td>5,000 Awesome Facts (About Everything!) (Natio...</td>\n",
       "      <td>National Geographic Kids</td>\n",
       "      <td>4.8</td>\n",
       "      <td>7665</td>\n",
       "      <td>12</td>\n",
       "      <td>2019</td>\n",
       "      <td>Non Fiction</td>\n",
       "    </tr>\n",
       "  </tbody>\n",
       "</table>\n",
       "</div>"
      ],
      "text/plain": [
       "                                                Name  \\\n",
       "0                      10-Day Green Smoothie Cleanse   \n",
       "1                                  11/22/63: A Novel   \n",
       "2            12 Rules for Life: An Antidote to Chaos   \n",
       "3                             1984 (Signet Classics)   \n",
       "4  5,000 Awesome Facts (About Everything!) (Natio...   \n",
       "\n",
       "                     Author  User Rating  Reviews  Price  Year        Genre  \n",
       "0                  JJ Smith          4.7    17350      8  2016  Non Fiction  \n",
       "1              Stephen King          4.6     2052     22  2011      Fiction  \n",
       "2        Jordan B. Peterson          4.7    18979     15  2018  Non Fiction  \n",
       "3             George Orwell          4.7    21424      6  2017      Fiction  \n",
       "4  National Geographic Kids          4.8     7665     12  2019  Non Fiction  "
      ]
     },
     "execution_count": 3,
     "metadata": {},
     "output_type": "execute_result"
    }
   ],
   "source": [
    "df = pd.read_csv('/kaggle/input/book-data/bestsellers with categories.csv')\n",
    "df.head()"
   ]
  },
  {
   "cell_type": "markdown",
   "id": "bbfda46e",
   "metadata": {
    "papermill": {
     "duration": 0.018073,
     "end_time": "2024-03-05T04:30:50.707473",
     "exception": false,
     "start_time": "2024-03-05T04:30:50.689400",
     "status": "completed"
    },
    "tags": []
   },
   "source": [
    "# 3.Data Preparation and Cleaning 🤠\n",
    "\n",
    "We will explore the dataset here and if there is any null values.\n"
   ]
  },
  {
   "cell_type": "code",
   "execution_count": 4,
   "id": "2de965e6",
   "metadata": {
    "execution": {
     "iopub.execute_input": "2024-03-05T04:30:50.750349Z",
     "iopub.status.busy": "2024-03-05T04:30:50.749153Z",
     "iopub.status.idle": "2024-03-05T04:30:50.779633Z",
     "shell.execute_reply": "2024-03-05T04:30:50.778060Z"
    },
    "papermill": {
     "duration": 0.055282,
     "end_time": "2024-03-05T04:30:50.782705",
     "exception": false,
     "start_time": "2024-03-05T04:30:50.727423",
     "status": "completed"
    },
    "tags": []
   },
   "outputs": [
    {
     "name": "stdout",
     "output_type": "stream",
     "text": [
      "<class 'pandas.core.frame.DataFrame'>\n",
      "RangeIndex: 550 entries, 0 to 549\n",
      "Data columns (total 7 columns):\n",
      " #   Column       Non-Null Count  Dtype  \n",
      "---  ------       --------------  -----  \n",
      " 0   Name         550 non-null    object \n",
      " 1   Author       550 non-null    object \n",
      " 2   User Rating  550 non-null    float64\n",
      " 3   Reviews      550 non-null    int64  \n",
      " 4   Price        550 non-null    int64  \n",
      " 5   Year         550 non-null    int64  \n",
      " 6   Genre        550 non-null    object \n",
      "dtypes: float64(1), int64(3), object(3)\n",
      "memory usage: 30.2+ KB\n"
     ]
    }
   ],
   "source": [
    "df.info()"
   ]
  },
  {
   "cell_type": "code",
   "execution_count": 5,
   "id": "836f36a3",
   "metadata": {
    "execution": {
     "iopub.execute_input": "2024-03-05T04:30:50.821857Z",
     "iopub.status.busy": "2024-03-05T04:30:50.821140Z",
     "iopub.status.idle": "2024-03-05T04:30:50.846889Z",
     "shell.execute_reply": "2024-03-05T04:30:50.845740Z"
    },
    "papermill": {
     "duration": 0.047962,
     "end_time": "2024-03-05T04:30:50.849502",
     "exception": false,
     "start_time": "2024-03-05T04:30:50.801540",
     "status": "completed"
    },
    "tags": []
   },
   "outputs": [
    {
     "data": {
      "text/html": [
       "<div>\n",
       "<style scoped>\n",
       "    .dataframe tbody tr th:only-of-type {\n",
       "        vertical-align: middle;\n",
       "    }\n",
       "\n",
       "    .dataframe tbody tr th {\n",
       "        vertical-align: top;\n",
       "    }\n",
       "\n",
       "    .dataframe thead th {\n",
       "        text-align: right;\n",
       "    }\n",
       "</style>\n",
       "<table border=\"1\" class=\"dataframe\">\n",
       "  <thead>\n",
       "    <tr style=\"text-align: right;\">\n",
       "      <th></th>\n",
       "      <th>User Rating</th>\n",
       "      <th>Reviews</th>\n",
       "      <th>Price</th>\n",
       "      <th>Year</th>\n",
       "    </tr>\n",
       "  </thead>\n",
       "  <tbody>\n",
       "    <tr>\n",
       "      <th>count</th>\n",
       "      <td>550.000000</td>\n",
       "      <td>550.000000</td>\n",
       "      <td>550.000000</td>\n",
       "      <td>550.000000</td>\n",
       "    </tr>\n",
       "    <tr>\n",
       "      <th>mean</th>\n",
       "      <td>4.618364</td>\n",
       "      <td>11953.281818</td>\n",
       "      <td>13.100000</td>\n",
       "      <td>2014.000000</td>\n",
       "    </tr>\n",
       "    <tr>\n",
       "      <th>std</th>\n",
       "      <td>0.226980</td>\n",
       "      <td>11731.132017</td>\n",
       "      <td>10.842262</td>\n",
       "      <td>3.165156</td>\n",
       "    </tr>\n",
       "    <tr>\n",
       "      <th>min</th>\n",
       "      <td>3.300000</td>\n",
       "      <td>37.000000</td>\n",
       "      <td>0.000000</td>\n",
       "      <td>2009.000000</td>\n",
       "    </tr>\n",
       "    <tr>\n",
       "      <th>25%</th>\n",
       "      <td>4.500000</td>\n",
       "      <td>4058.000000</td>\n",
       "      <td>7.000000</td>\n",
       "      <td>2011.000000</td>\n",
       "    </tr>\n",
       "    <tr>\n",
       "      <th>50%</th>\n",
       "      <td>4.700000</td>\n",
       "      <td>8580.000000</td>\n",
       "      <td>11.000000</td>\n",
       "      <td>2014.000000</td>\n",
       "    </tr>\n",
       "    <tr>\n",
       "      <th>75%</th>\n",
       "      <td>4.800000</td>\n",
       "      <td>17253.250000</td>\n",
       "      <td>16.000000</td>\n",
       "      <td>2017.000000</td>\n",
       "    </tr>\n",
       "    <tr>\n",
       "      <th>max</th>\n",
       "      <td>4.900000</td>\n",
       "      <td>87841.000000</td>\n",
       "      <td>105.000000</td>\n",
       "      <td>2019.000000</td>\n",
       "    </tr>\n",
       "  </tbody>\n",
       "</table>\n",
       "</div>"
      ],
      "text/plain": [
       "       User Rating       Reviews       Price         Year\n",
       "count   550.000000    550.000000  550.000000   550.000000\n",
       "mean      4.618364  11953.281818   13.100000  2014.000000\n",
       "std       0.226980  11731.132017   10.842262     3.165156\n",
       "min       3.300000     37.000000    0.000000  2009.000000\n",
       "25%       4.500000   4058.000000    7.000000  2011.000000\n",
       "50%       4.700000   8580.000000   11.000000  2014.000000\n",
       "75%       4.800000  17253.250000   16.000000  2017.000000\n",
       "max       4.900000  87841.000000  105.000000  2019.000000"
      ]
     },
     "execution_count": 5,
     "metadata": {},
     "output_type": "execute_result"
    }
   ],
   "source": [
    "### to get an overview of the dataframe\n",
    "df.describe()"
   ]
  },
  {
   "cell_type": "markdown",
   "id": "d19e7fae",
   "metadata": {
    "code_folding": [],
    "papermill": {
     "duration": 0.018296,
     "end_time": "2024-03-05T04:30:50.886274",
     "exception": false,
     "start_time": "2024-03-05T04:30:50.867978",
     "status": "completed"
    },
    "tags": []
   },
   "source": [
    "- It is clear from the above table that maximum price of a book is 105$ and maximum rating is 4.9."
   ]
  },
  {
   "cell_type": "code",
   "execution_count": 6,
   "id": "a130b5ad",
   "metadata": {
    "execution": {
     "iopub.execute_input": "2024-03-05T04:30:50.925771Z",
     "iopub.status.busy": "2024-03-05T04:30:50.925095Z",
     "iopub.status.idle": "2024-03-05T04:30:50.931442Z",
     "shell.execute_reply": "2024-03-05T04:30:50.930107Z"
    },
    "papermill": {
     "duration": 0.029364,
     "end_time": "2024-03-05T04:30:50.934151",
     "exception": false,
     "start_time": "2024-03-05T04:30:50.904787",
     "status": "completed"
    },
    "tags": []
   },
   "outputs": [
    {
     "name": "stdout",
     "output_type": "stream",
     "text": [
      "The dataset has 550 rows and 7 columns.\n"
     ]
    }
   ],
   "source": [
    "r,c = df.shape\n",
    "print(f\"The dataset has {r} rows and {c} columns.\")"
   ]
  },
  {
   "cell_type": "markdown",
   "id": "45e77464",
   "metadata": {
    "papermill": {
     "duration": 0.022341,
     "end_time": "2024-03-05T04:30:50.975665",
     "exception": false,
     "start_time": "2024-03-05T04:30:50.953324",
     "status": "completed"
    },
    "tags": []
   },
   "source": [
    "### 3.A.Renaming Columns"
   ]
  },
  {
   "cell_type": "code",
   "execution_count": 7,
   "id": "d8af485c",
   "metadata": {
    "execution": {
     "iopub.execute_input": "2024-03-05T04:30:51.016216Z",
     "iopub.status.busy": "2024-03-05T04:30:51.015818Z",
     "iopub.status.idle": "2024-03-05T04:30:51.022021Z",
     "shell.execute_reply": "2024-03-05T04:30:51.020634Z"
    },
    "papermill": {
     "duration": 0.029326,
     "end_time": "2024-03-05T04:30:51.024600",
     "exception": false,
     "start_time": "2024-03-05T04:30:50.995274",
     "status": "completed"
    },
    "tags": []
   },
   "outputs": [],
   "source": [
    "#To rename the columns and make it easy to use:\n",
    "df.columns=['name','author','user_rating','reviews','price','year','genre']"
   ]
  },
  {
   "cell_type": "code",
   "execution_count": 8,
   "id": "3e5cb604",
   "metadata": {
    "execution": {
     "iopub.execute_input": "2024-03-05T04:30:51.065662Z",
     "iopub.status.busy": "2024-03-05T04:30:51.065254Z",
     "iopub.status.idle": "2024-03-05T04:30:51.081293Z",
     "shell.execute_reply": "2024-03-05T04:30:51.080012Z"
    },
    "papermill": {
     "duration": 0.039762,
     "end_time": "2024-03-05T04:30:51.084007",
     "exception": false,
     "start_time": "2024-03-05T04:30:51.044245",
     "status": "completed"
    },
    "tags": []
   },
   "outputs": [
    {
     "data": {
      "text/html": [
       "<div>\n",
       "<style scoped>\n",
       "    .dataframe tbody tr th:only-of-type {\n",
       "        vertical-align: middle;\n",
       "    }\n",
       "\n",
       "    .dataframe tbody tr th {\n",
       "        vertical-align: top;\n",
       "    }\n",
       "\n",
       "    .dataframe thead th {\n",
       "        text-align: right;\n",
       "    }\n",
       "</style>\n",
       "<table border=\"1\" class=\"dataframe\">\n",
       "  <thead>\n",
       "    <tr style=\"text-align: right;\">\n",
       "      <th></th>\n",
       "      <th>name</th>\n",
       "      <th>author</th>\n",
       "      <th>user_rating</th>\n",
       "      <th>reviews</th>\n",
       "      <th>price</th>\n",
       "      <th>year</th>\n",
       "      <th>genre</th>\n",
       "    </tr>\n",
       "  </thead>\n",
       "  <tbody>\n",
       "    <tr>\n",
       "      <th>0</th>\n",
       "      <td>10-Day Green Smoothie Cleanse</td>\n",
       "      <td>JJ Smith</td>\n",
       "      <td>4.7</td>\n",
       "      <td>17350</td>\n",
       "      <td>8</td>\n",
       "      <td>2016</td>\n",
       "      <td>Non Fiction</td>\n",
       "    </tr>\n",
       "    <tr>\n",
       "      <th>1</th>\n",
       "      <td>11/22/63: A Novel</td>\n",
       "      <td>Stephen King</td>\n",
       "      <td>4.6</td>\n",
       "      <td>2052</td>\n",
       "      <td>22</td>\n",
       "      <td>2011</td>\n",
       "      <td>Fiction</td>\n",
       "    </tr>\n",
       "    <tr>\n",
       "      <th>2</th>\n",
       "      <td>12 Rules for Life: An Antidote to Chaos</td>\n",
       "      <td>Jordan B. Peterson</td>\n",
       "      <td>4.7</td>\n",
       "      <td>18979</td>\n",
       "      <td>15</td>\n",
       "      <td>2018</td>\n",
       "      <td>Non Fiction</td>\n",
       "    </tr>\n",
       "    <tr>\n",
       "      <th>3</th>\n",
       "      <td>1984 (Signet Classics)</td>\n",
       "      <td>George Orwell</td>\n",
       "      <td>4.7</td>\n",
       "      <td>21424</td>\n",
       "      <td>6</td>\n",
       "      <td>2017</td>\n",
       "      <td>Fiction</td>\n",
       "    </tr>\n",
       "    <tr>\n",
       "      <th>4</th>\n",
       "      <td>5,000 Awesome Facts (About Everything!) (Natio...</td>\n",
       "      <td>National Geographic Kids</td>\n",
       "      <td>4.8</td>\n",
       "      <td>7665</td>\n",
       "      <td>12</td>\n",
       "      <td>2019</td>\n",
       "      <td>Non Fiction</td>\n",
       "    </tr>\n",
       "  </tbody>\n",
       "</table>\n",
       "</div>"
      ],
      "text/plain": [
       "                                                name  \\\n",
       "0                      10-Day Green Smoothie Cleanse   \n",
       "1                                  11/22/63: A Novel   \n",
       "2            12 Rules for Life: An Antidote to Chaos   \n",
       "3                             1984 (Signet Classics)   \n",
       "4  5,000 Awesome Facts (About Everything!) (Natio...   \n",
       "\n",
       "                     author  user_rating  reviews  price  year        genre  \n",
       "0                  JJ Smith          4.7    17350      8  2016  Non Fiction  \n",
       "1              Stephen King          4.6     2052     22  2011      Fiction  \n",
       "2        Jordan B. Peterson          4.7    18979     15  2018  Non Fiction  \n",
       "3             George Orwell          4.7    21424      6  2017      Fiction  \n",
       "4  National Geographic Kids          4.8     7665     12  2019  Non Fiction  "
      ]
     },
     "execution_count": 8,
     "metadata": {},
     "output_type": "execute_result"
    }
   ],
   "source": [
    "df.head()"
   ]
  },
  {
   "cell_type": "markdown",
   "id": "71463fbf",
   "metadata": {
    "papermill": {
     "duration": 0.018732,
     "end_time": "2024-03-05T04:30:51.122000",
     "exception": false,
     "start_time": "2024-03-05T04:30:51.103268",
     "status": "completed"
    },
    "tags": []
   },
   "source": [
    "### 3.B. Checking for null values"
   ]
  },
  {
   "cell_type": "code",
   "execution_count": 9,
   "id": "8cc07f43",
   "metadata": {
    "execution": {
     "iopub.execute_input": "2024-03-05T04:30:51.162687Z",
     "iopub.status.busy": "2024-03-05T04:30:51.162245Z",
     "iopub.status.idle": "2024-03-05T04:30:51.171994Z",
     "shell.execute_reply": "2024-03-05T04:30:51.170849Z"
    },
    "papermill": {
     "duration": 0.03251,
     "end_time": "2024-03-05T04:30:51.174631",
     "exception": false,
     "start_time": "2024-03-05T04:30:51.142121",
     "status": "completed"
    },
    "tags": []
   },
   "outputs": [
    {
     "data": {
      "text/plain": [
       "name           0\n",
       "author         0\n",
       "user_rating    0\n",
       "reviews        0\n",
       "price          0\n",
       "year           0\n",
       "genre          0\n",
       "dtype: int64"
      ]
     },
     "execution_count": 9,
     "metadata": {},
     "output_type": "execute_result"
    }
   ],
   "source": [
    "#To check if there is any null value in the dataframe\n",
    "df.isnull().sum()"
   ]
  },
  {
   "cell_type": "code",
   "execution_count": 10,
   "id": "bf046bda",
   "metadata": {
    "execution": {
     "iopub.execute_input": "2024-03-05T04:30:51.214784Z",
     "iopub.status.busy": "2024-03-05T04:30:51.214326Z",
     "iopub.status.idle": "2024-03-05T04:30:51.222812Z",
     "shell.execute_reply": "2024-03-05T04:30:51.221586Z"
    },
    "papermill": {
     "duration": 0.031788,
     "end_time": "2024-03-05T04:30:51.225291",
     "exception": false,
     "start_time": "2024-03-05T04:30:51.193503",
     "status": "completed"
    },
    "tags": []
   },
   "outputs": [
    {
     "data": {
      "text/plain": [
       "351"
      ]
     },
     "execution_count": 10,
     "metadata": {},
     "output_type": "execute_result"
    }
   ],
   "source": [
    "#For total number of different books\n",
    "len(df.name.unique())"
   ]
  },
  {
   "cell_type": "markdown",
   "id": "94bb77c7",
   "metadata": {
    "papermill": {
     "duration": 0.019619,
     "end_time": "2024-03-05T04:30:51.265507",
     "exception": false,
     "start_time": "2024-03-05T04:30:51.245888",
     "status": "completed"
    },
    "tags": []
   },
   "source": [
    "**Total number of unique books are 351 but total rows are 550.**\n",
    "\n",
    "This is clear if we see the dataframe that some books are repeatedly among the top sellers in different years."
   ]
  },
  {
   "cell_type": "markdown",
   "id": "0507b29d",
   "metadata": {
    "papermill": {
     "duration": 0.020377,
     "end_time": "2024-03-05T04:30:51.305642",
     "exception": false,
     "start_time": "2024-03-05T04:30:51.285265",
     "status": "completed"
    },
    "tags": []
   },
   "source": [
    "### 3.C. Adding a feature"
   ]
  },
  {
   "cell_type": "markdown",
   "id": "b7d72b9e",
   "metadata": {
    "papermill": {
     "duration": 0.020457,
     "end_time": "2024-03-05T04:30:51.347769",
     "exception": false,
     "start_time": "2024-03-05T04:30:51.327312",
     "status": "completed"
    },
    "tags": []
   },
   "source": [
    "**Lets add another columns to the dataframe which tells us the estimated profit which is no doubt less than the total earned but provides us with a brief overview of how much is earned for sure.**"
   ]
  },
  {
   "cell_type": "code",
   "execution_count": 11,
   "id": "f09c2df7",
   "metadata": {
    "execution": {
     "iopub.execute_input": "2024-03-05T04:30:51.450671Z",
     "iopub.status.busy": "2024-03-05T04:30:51.450246Z",
     "iopub.status.idle": "2024-03-05T04:30:51.457460Z",
     "shell.execute_reply": "2024-03-05T04:30:51.456119Z"
    },
    "papermill": {
     "duration": 0.092424,
     "end_time": "2024-03-05T04:30:51.460071",
     "exception": false,
     "start_time": "2024-03-05T04:30:51.367647",
     "status": "completed"
    },
    "tags": []
   },
   "outputs": [],
   "source": [
    "df['estimated_profit']=df.reviews*df.price"
   ]
  },
  {
   "cell_type": "markdown",
   "id": "04fe3dd8",
   "metadata": {
    "papermill": {
     "duration": 0.019161,
     "end_time": "2024-03-05T04:30:51.499211",
     "exception": false,
     "start_time": "2024-03-05T04:30:51.480050",
     "status": "completed"
    },
    "tags": []
   },
   "source": [
    "# 4. Exploratory Analysis and Visualization\n",
    "\n",
    "Here we will see the trends of different columns and get the insights of the dataset.\n",
    "\n"
   ]
  },
  {
   "cell_type": "markdown",
   "id": "01d444e7",
   "metadata": {
    "papermill": {
     "duration": 0.019157,
     "end_time": "2024-03-05T04:30:51.539305",
     "exception": false,
     "start_time": "2024-03-05T04:30:51.520148",
     "status": "completed"
    },
    "tags": []
   },
   "source": [
    "Let's begin by importing`matplotlib.pyplot` and `seaborn`."
   ]
  },
  {
   "cell_type": "code",
   "execution_count": 12,
   "id": "a72c70d2",
   "metadata": {
    "execution": {
     "iopub.execute_input": "2024-03-05T04:30:51.582337Z",
     "iopub.status.busy": "2024-03-05T04:30:51.581946Z",
     "iopub.status.idle": "2024-03-05T04:30:51.587956Z",
     "shell.execute_reply": "2024-03-05T04:30:51.586818Z"
    },
    "papermill": {
     "duration": 0.031339,
     "end_time": "2024-03-05T04:30:51.590708",
     "exception": false,
     "start_time": "2024-03-05T04:30:51.559369",
     "status": "completed"
    },
    "tags": []
   },
   "outputs": [],
   "source": [
    "# setting the background to be dark, it looks cool with this ;)\n",
    "sns.set_style('darkgrid')\n",
    "plt.rcParams['font.size'] = 14\n",
    "plt.rcParams['figure.figsize'] = (9, 5)\n",
    "plt.rcParams['figure.facecolor'] = '#00000000'"
   ]
  },
  {
   "cell_type": "markdown",
   "id": "e1c785be",
   "metadata": {
    "papermill": {
     "duration": 0.020323,
     "end_time": "2024-03-05T04:30:51.630743",
     "exception": false,
     "start_time": "2024-03-05T04:30:51.610420",
     "status": "completed"
    },
    "tags": []
   },
   "source": [
    "# Lets put forward some questions.\n",
    "\n",
    "One thing to note is that this analysis is only valid for the top selling category.\n",
    "- Which genre has the most books in this category ?\n",
    "- What is the average rating of each genre?\n",
    "- What is the popularity of each genre and its relationship with time?\n",
    "- Which year had the most books sold in this category?\n",
    "- What effect does time had on the price of books over the years? \n",
    "- Price of books of each genre over the years.\n",
    "- How has been the customer reviews over the years?\n",
    "- Which genres have the highest and lowest ratings?\n",
    "- Which author is most popular and which have earned the most in this category?\n",
    "- Who is the most popular author to each genre?\n",
    "- Which books have earned the most money in each genre?\n",
    "- The money making books overall.\n",
    "- What is the relationship of selling with ratings?\n"
   ]
  },
  {
   "cell_type": "markdown",
   "id": "68c9cfb1",
   "metadata": {
    "papermill": {
     "duration": 0.02019,
     "end_time": "2024-03-05T04:30:51.671081",
     "exception": false,
     "start_time": "2024-03-05T04:30:51.650891",
     "status": "completed"
    },
    "tags": []
   },
   "source": [
    "# 1-Which genre has the most books in this category  and their distribution?"
   ]
  },
  {
   "cell_type": "code",
   "execution_count": 13,
   "id": "a1f1fed4",
   "metadata": {
    "execution": {
     "iopub.execute_input": "2024-03-05T04:30:51.713658Z",
     "iopub.status.busy": "2024-03-05T04:30:51.713210Z",
     "iopub.status.idle": "2024-03-05T04:30:51.724128Z",
     "shell.execute_reply": "2024-03-05T04:30:51.723041Z"
    },
    "papermill": {
     "duration": 0.035202,
     "end_time": "2024-03-05T04:30:51.726534",
     "exception": false,
     "start_time": "2024-03-05T04:30:51.691332",
     "status": "completed"
    },
    "tags": []
   },
   "outputs": [
    {
     "data": {
      "text/plain": [
       "240"
      ]
     },
     "execution_count": 13,
     "metadata": {},
     "output_type": "execute_result"
    }
   ],
   "source": [
    "fiction_df_values=df[df.genre=='Fiction']\n",
    "len(fiction_df_values)"
   ]
  },
  {
   "cell_type": "code",
   "execution_count": 14,
   "id": "f9628d93",
   "metadata": {
    "execution": {
     "iopub.execute_input": "2024-03-05T04:30:51.767366Z",
     "iopub.status.busy": "2024-03-05T04:30:51.766964Z",
     "iopub.status.idle": "2024-03-05T04:30:51.774997Z",
     "shell.execute_reply": "2024-03-05T04:30:51.773840Z"
    },
    "papermill": {
     "duration": 0.031397,
     "end_time": "2024-03-05T04:30:51.777454",
     "exception": false,
     "start_time": "2024-03-05T04:30:51.746057",
     "status": "completed"
    },
    "tags": []
   },
   "outputs": [
    {
     "data": {
      "text/plain": [
       "310"
      ]
     },
     "execution_count": 14,
     "metadata": {},
     "output_type": "execute_result"
    }
   ],
   "source": [
    "Nfiction_df=df[df.genre=='Non Fiction']\n",
    "len(Nfiction_df)"
   ]
  },
  {
   "cell_type": "code",
   "execution_count": 15,
   "id": "f8d2c31b",
   "metadata": {
    "execution": {
     "iopub.execute_input": "2024-03-05T04:30:51.818510Z",
     "iopub.status.busy": "2024-03-05T04:30:51.818143Z",
     "iopub.status.idle": "2024-03-05T04:30:51.828045Z",
     "shell.execute_reply": "2024-03-05T04:30:51.826529Z"
    },
    "papermill": {
     "duration": 0.033618,
     "end_time": "2024-03-05T04:30:51.830683",
     "exception": false,
     "start_time": "2024-03-05T04:30:51.797065",
     "status": "completed"
    },
    "tags": []
   },
   "outputs": [
    {
     "data": {
      "text/plain": [
       "genre\n",
       "Non Fiction    310\n",
       "Fiction        240\n",
       "Name: count, dtype: int64"
      ]
     },
     "execution_count": 15,
     "metadata": {},
     "output_type": "execute_result"
    }
   ],
   "source": [
    "genre_dist=df.genre.value_counts()\n",
    "genre_dist"
   ]
  },
  {
   "cell_type": "code",
   "execution_count": 16,
   "id": "557c05d6",
   "metadata": {
    "execution": {
     "iopub.execute_input": "2024-03-05T04:30:51.873339Z",
     "iopub.status.busy": "2024-03-05T04:30:51.872960Z",
     "iopub.status.idle": "2024-03-05T04:30:52.204764Z",
     "shell.execute_reply": "2024-03-05T04:30:52.203458Z"
    },
    "papermill": {
     "duration": 0.35558,
     "end_time": "2024-03-05T04:30:52.207365",
     "exception": false,
     "start_time": "2024-03-05T04:30:51.851785",
     "status": "completed"
    },
    "tags": []
   },
   "outputs": [
    {
     "data": {
      "image/png": "[encoded data removed]",
      "text/plain": [
       "<Figure size 900x500 with 1 Axes>"
      ]
     },
     "metadata": {
      "needs_background": "light"
     },
     "output_type": "display_data"
    }
   ],
   "source": [
    "sns.barplot(x=genre_dist.index,y=genre_dist);"
   ]
  },
  {
   "cell_type": "code",
   "execution_count": 17,
   "id": "a3d43e40",
   "metadata": {
    "execution": {
     "iopub.execute_input": "2024-03-05T04:30:52.253808Z",
     "iopub.status.busy": "2024-03-05T04:30:52.253307Z",
     "iopub.status.idle": "2024-03-05T04:30:52.512502Z",
     "shell.execute_reply": "2024-03-05T04:30:52.510926Z"
    },
    "papermill": {
     "duration": 0.287928,
     "end_time": "2024-03-05T04:30:52.517043",
     "exception": false,
     "start_time": "2024-03-05T04:30:52.229115",
     "status": "completed"
    },
    "tags": []
   },
   "outputs": [
    {
     "data": {
      "image/png": "[encoded data removed]",
      "text/plain": [
       "<Figure size 900x500 with 1 Axes>"
      ]
     },
     "metadata": {},
     "output_type": "display_data"
    }
   ],
   "source": [
    "plt.pie([240,310],labels=['Fiction','Non Fiction'],autopct='%.0f%%');"
   ]
  },
  {
   "cell_type": "markdown",
   "id": "f76dd1f7",
   "metadata": {
    "papermill": {
     "duration": 0.025761,
     "end_time": "2024-03-05T04:30:52.588740",
     "exception": false,
     "start_time": "2024-03-05T04:30:52.562979",
     "status": "completed"
    },
    "tags": []
   },
   "source": [
    "- Non Fiction books are in majority in top selling category."
   ]
  },
  {
   "cell_type": "markdown",
   "id": "d19d0f14",
   "metadata": {
    "papermill": {
     "duration": 0.020399,
     "end_time": "2024-03-05T04:30:52.630634",
     "exception": false,
     "start_time": "2024-03-05T04:30:52.610235",
     "status": "completed"
    },
    "tags": []
   },
   "source": [
    "### User Ratings Overview:\n",
    "\n",
    "- What is the average rating of each genre?"
   ]
  },
  {
   "cell_type": "code",
   "execution_count": 18,
   "id": "c8d074fb",
   "metadata": {
    "execution": {
     "iopub.execute_input": "2024-03-05T04:30:52.676266Z",
     "iopub.status.busy": "2024-03-05T04:30:52.675093Z",
     "iopub.status.idle": "2024-03-05T04:30:52.686795Z",
     "shell.execute_reply": "2024-03-05T04:30:52.685792Z"
    },
    "papermill": {
     "duration": 0.03653,
     "end_time": "2024-03-05T04:30:52.689304",
     "exception": false,
     "start_time": "2024-03-05T04:30:52.652774",
     "status": "completed"
    },
    "tags": []
   },
   "outputs": [
    {
     "data": {
      "text/plain": [
       "genre\n",
       "Fiction        4.648333\n",
       "Non Fiction    4.595161\n",
       "Name: user_rating, dtype: float64"
      ]
     },
     "execution_count": 18,
     "metadata": {},
     "output_type": "execute_result"
    }
   ],
   "source": [
    "df.groupby('genre')['user_rating'].mean()"
   ]
  },
  {
   "cell_type": "code",
   "execution_count": 19,
   "id": "3cf60b6f",
   "metadata": {
    "execution": {
     "iopub.execute_input": "2024-03-05T04:30:52.734665Z",
     "iopub.status.busy": "2024-03-05T04:30:52.733207Z",
     "iopub.status.idle": "2024-03-05T04:30:53.252896Z",
     "shell.execute_reply": "2024-03-05T04:30:53.251122Z"
    },
    "papermill": {
     "duration": 0.545097,
     "end_time": "2024-03-05T04:30:53.255878",
     "exception": false,
     "start_time": "2024-03-05T04:30:52.710781",
     "status": "completed"
    },
    "tags": []
   },
   "outputs": [
    {
     "name": "stderr",
     "output_type": "stream",
     "text": [
      "/opt/conda/lib/python3.10/site-packages/seaborn/_oldcore.py:1119: FutureWarning: use_inf_as_na option is deprecated and will be removed in a future version. Convert inf values to NaN before operating instead.\n",
      "  with pd.option_context('mode.use_inf_as_na', True):\n"
     ]
    },
    {
     "data": {
      "image/png": "[encoded data removed]",
      "text/plain": [
       "<Figure size 900x500 with 1 Axes>"
      ]
     },
     "metadata": {
      "needs_background": "light"
     },
     "output_type": "display_data"
    }
   ],
   "source": [
    "#Distribution of ratings\n",
    "sns.histplot(data=df.user_rating,bins=10)\n",
    "plt.xlabel(\"Ratings\");"
   ]
  },
  {
   "cell_type": "code",
   "execution_count": 20,
   "id": "429540eb",
   "metadata": {
    "execution": {
     "iopub.execute_input": "2024-03-05T04:30:53.303332Z",
     "iopub.status.busy": "2024-03-05T04:30:53.302784Z",
     "iopub.status.idle": "2024-03-05T04:30:54.576092Z",
     "shell.execute_reply": "2024-03-05T04:30:54.574658Z"
    },
    "papermill": {
     "duration": 1.300798,
     "end_time": "2024-03-05T04:30:54.578970",
     "exception": false,
     "start_time": "2024-03-05T04:30:53.278172",
     "status": "completed"
    },
    "tags": []
   },
   "outputs": [
    {
     "name": "stderr",
     "output_type": "stream",
     "text": [
      "/opt/conda/lib/python3.10/site-packages/seaborn/_oldcore.py:1119: FutureWarning: use_inf_as_na option is deprecated and will be removed in a future version. Convert inf values to NaN before operating instead.\n",
      "  with pd.option_context('mode.use_inf_as_na', True):\n",
      "/opt/conda/lib/python3.10/site-packages/seaborn/_oldcore.py:1119: FutureWarning: use_inf_as_na option is deprecated and will be removed in a future version. Convert inf values to NaN before operating instead.\n",
      "  with pd.option_context('mode.use_inf_as_na', True):\n",
      "/opt/conda/lib/python3.10/site-packages/seaborn/_oldcore.py:1075: FutureWarning: When grouping with a length-1 list-like, you will need to pass a length-1 tuple to get_group in a future version of pandas. Pass `(name,)` instead of `name` to silence this warning.\n",
      "  data_subset = grouped_data.get_group(pd_key)\n",
      "/opt/conda/lib/python3.10/site-packages/seaborn/_oldcore.py:1075: FutureWarning: When grouping with a length-1 list-like, you will need to pass a length-1 tuple to get_group in a future version of pandas. Pass `(name,)` instead of `name` to silence this warning.\n",
      "  data_subset = grouped_data.get_group(pd_key)\n"
     ]
    },
    {
     "data": {
      "image/png": "[encoded data removed]",
      "text/plain": [
       "<Figure size 900x500 with 1 Axes>"
      ]
     },
     "metadata": {
      "needs_background": "light"
     },
     "output_type": "display_data"
    }
   ],
   "source": [
    "# Relationship of ratings with time.\n",
    "sns.lineplot(y=df.user_rating,x=df.year,hue=df.genre);\n",
    "plt.ylabel(\"Ratings\")\n",
    "plt.xlabel(\"Years\");"
   ]
  },
  {
   "cell_type": "markdown",
   "id": "abb59ef3",
   "metadata": {
    "papermill": {
     "duration": 0.02303,
     "end_time": "2024-03-05T04:30:54.625732",
     "exception": false,
     "start_time": "2024-03-05T04:30:54.602702",
     "status": "completed"
    },
    "tags": []
   },
   "source": [
    "- It is clear from the above graph that most of the books received ratings between 4.5 to 4.9.\n"
   ]
  },
  {
   "cell_type": "markdown",
   "id": "e7484fcb",
   "metadata": {
    "papermill": {
     "duration": 0.022669,
     "end_time": "2024-03-05T04:30:54.671355",
     "exception": false,
     "start_time": "2024-03-05T04:30:54.648686",
     "status": "completed"
    },
    "tags": []
   },
   "source": [
    "### Relationship between ratings and price"
   ]
  },
  {
   "cell_type": "code",
   "execution_count": 21,
   "id": "0e0b9000",
   "metadata": {
    "execution": {
     "iopub.execute_input": "2024-03-05T04:30:54.720177Z",
     "iopub.status.busy": "2024-03-05T04:30:54.719784Z",
     "iopub.status.idle": "2024-03-05T04:30:55.630720Z",
     "shell.execute_reply": "2024-03-05T04:30:55.629003Z"
    },
    "papermill": {
     "duration": 0.939203,
     "end_time": "2024-03-05T04:30:55.633497",
     "exception": false,
     "start_time": "2024-03-05T04:30:54.694294",
     "status": "completed"
    },
    "tags": []
   },
   "outputs": [
    {
     "data": {
      "image/png": "[encoded data removed]",
      "text/plain": [
       "<Figure size 500x500 with 1 Axes>"
      ]
     },
     "metadata": {
      "needs_background": "light"
     },
     "output_type": "display_data"
    }
   ],
   "source": [
    "sns.lmplot(y='user_rating',x='price',data=df)\n",
    "plt.ylabel('Ratings')\n",
    "plt.xlabel('Price');"
   ]
  },
  {
   "cell_type": "markdown",
   "id": "40b2fc98",
   "metadata": {
    "papermill": {
     "duration": 0.023317,
     "end_time": "2024-03-05T04:30:55.681205",
     "exception": false,
     "start_time": "2024-03-05T04:30:55.657888",
     "status": "completed"
    },
    "tags": []
   },
   "source": [
    "**As price increases, rating goes down.**"
   ]
  },
  {
   "cell_type": "code",
   "execution_count": 22,
   "id": "2baa1cfe",
   "metadata": {
    "execution": {
     "iopub.execute_input": "2024-03-05T04:30:55.732191Z",
     "iopub.status.busy": "2024-03-05T04:30:55.731271Z",
     "iopub.status.idle": "2024-03-05T04:30:55.740520Z",
     "shell.execute_reply": "2024-03-05T04:30:55.739537Z"
    },
    "papermill": {
     "duration": 0.038301,
     "end_time": "2024-03-05T04:30:55.743118",
     "exception": false,
     "start_time": "2024-03-05T04:30:55.704817",
     "status": "completed"
    },
    "tags": []
   },
   "outputs": [
    {
     "data": {
      "text/plain": [
       "genre\n",
       "Fiction        4.648333\n",
       "Non Fiction    4.595161\n",
       "Name: user_rating, dtype: float64"
      ]
     },
     "execution_count": 22,
     "metadata": {},
     "output_type": "execute_result"
    }
   ],
   "source": [
    "df.groupby('genre')['user_rating'].mean()"
   ]
  },
  {
   "cell_type": "markdown",
   "id": "282eaa5a",
   "metadata": {
    "papermill": {
     "duration": 0.024343,
     "end_time": "2024-03-05T04:30:55.792595",
     "exception": false,
     "start_time": "2024-03-05T04:30:55.768252",
     "status": "completed"
    },
    "tags": []
   },
   "source": [
    "- This graph shows that there is not a significant relationship between price and ratings but with increasing price , the ratings are falling for both Fiction and Non fiction."
   ]
  },
  {
   "cell_type": "markdown",
   "id": "3a3a00e7",
   "metadata": {
    "papermill": {
     "duration": 0.025531,
     "end_time": "2024-03-05T04:30:55.843001",
     "exception": false,
     "start_time": "2024-03-05T04:30:55.817470",
     "status": "completed"
    },
    "tags": []
   },
   "source": [
    "### To get an overview of how much books have earned yearly."
   ]
  },
  {
   "cell_type": "code",
   "execution_count": 23,
   "id": "be9b064c",
   "metadata": {
    "execution": {
     "iopub.execute_input": "2024-03-05T04:30:55.894788Z",
     "iopub.status.busy": "2024-03-05T04:30:55.894128Z",
     "iopub.status.idle": "2024-03-05T04:30:57.246330Z",
     "shell.execute_reply": "2024-03-05T04:30:57.245274Z"
    },
    "papermill": {
     "duration": 1.381013,
     "end_time": "2024-03-05T04:30:57.249778",
     "exception": false,
     "start_time": "2024-03-05T04:30:55.868765",
     "status": "completed"
    },
    "tags": []
   },
   "outputs": [
    {
     "data": {
      "image/png": "[encoded data removed]",
      "text/plain": [
       "<Figure size 900x500 with 1 Axes>"
      ]
     },
     "metadata": {
      "needs_background": "light"
     },
     "output_type": "display_data"
    }
   ],
   "source": [
    "sns.barplot(x=df.year,y=df.estimated_profit,hue=df.genre)\n",
    "plt.xlabel('Years')\n",
    "plt.ylabel(\"Eearned(millions)\")\n",
    "plt.title('Money earned each year');"
   ]
  },
  {
   "cell_type": "markdown",
   "id": "46d7a0d4",
   "metadata": {
    "papermill": {
     "duration": 0.025074,
     "end_time": "2024-03-05T04:30:57.301385",
     "exception": false,
     "start_time": "2024-03-05T04:30:57.276311",
     "status": "completed"
    },
    "tags": []
   },
   "source": [
    "- Above graph above shows the  earning of these top books ,in most cases, are below 0.8 million."
   ]
  },
  {
   "cell_type": "markdown",
   "id": "24f18031",
   "metadata": {
    "papermill": {
     "duration": 0.02621,
     "end_time": "2024-03-05T04:30:57.353487",
     "exception": false,
     "start_time": "2024-03-05T04:30:57.327277",
     "status": "completed"
    },
    "tags": []
   },
   "source": [
    "### Average Profit earned by each book depending on its genre."
   ]
  },
  {
   "cell_type": "code",
   "execution_count": 24,
   "id": "f048e444",
   "metadata": {
    "execution": {
     "iopub.execute_input": "2024-03-05T04:30:57.406505Z",
     "iopub.status.busy": "2024-03-05T04:30:57.405866Z",
     "iopub.status.idle": "2024-03-05T04:30:57.411608Z",
     "shell.execute_reply": "2024-03-05T04:30:57.410658Z"
    },
    "papermill": {
     "duration": 0.034701,
     "end_time": "2024-03-05T04:30:57.414202",
     "exception": false,
     "start_time": "2024-03-05T04:30:57.379501",
     "status": "completed"
    },
    "tags": []
   },
   "outputs": [],
   "source": [
    "genre_average=df.groupby(['genre'])['estimated_profit'].mean()"
   ]
  },
  {
   "cell_type": "code",
   "execution_count": 25,
   "id": "58c3dc4c",
   "metadata": {
    "execution": {
     "iopub.execute_input": "2024-03-05T04:30:57.468244Z",
     "iopub.status.busy": "2024-03-05T04:30:57.467403Z",
     "iopub.status.idle": "2024-03-05T04:30:57.776363Z",
     "shell.execute_reply": "2024-03-05T04:30:57.774881Z"
    },
    "papermill": {
     "duration": 0.339218,
     "end_time": "2024-03-05T04:30:57.779029",
     "exception": false,
     "start_time": "2024-03-05T04:30:57.439811",
     "status": "completed"
    },
    "tags": []
   },
   "outputs": [
    {
     "data": {
      "image/png": "[encoded data removed]",
      "text/plain": [
       "<Figure size 900x500 with 1 Axes>"
      ]
     },
     "metadata": {
      "needs_background": "light"
     },
     "output_type": "display_data"
    }
   ],
   "source": [
    "sns.barplot(x=genre_average.index,y=genre_average);"
   ]
  },
  {
   "cell_type": "markdown",
   "id": "a1156a78",
   "metadata": {
    "papermill": {
     "duration": 0.026945,
     "end_time": "2024-03-05T04:30:57.833818",
     "exception": false,
     "start_time": "2024-03-05T04:30:57.806873",
     "status": "completed"
    },
    "tags": []
   },
   "source": [
    "# Q1: TOP 10 Books which earned the most ?"
   ]
  },
  {
   "cell_type": "code",
   "execution_count": 26,
   "id": "611e1716",
   "metadata": {
    "execution": {
     "iopub.execute_input": "2024-03-05T04:30:57.885747Z",
     "iopub.status.busy": "2024-03-05T04:30:57.885340Z",
     "iopub.status.idle": "2024-03-05T04:30:57.901551Z",
     "shell.execute_reply": "2024-03-05T04:30:57.900676Z"
    },
    "papermill": {
     "duration": 0.045147,
     "end_time": "2024-03-05T04:30:57.904076",
     "exception": false,
     "start_time": "2024-03-05T04:30:57.858929",
     "status": "completed"
    },
    "tags": []
   },
   "outputs": [
    {
     "data": {
      "text/plain": [
       "name\n",
       "The Girl on the Train                                                                                 1430028\n",
       "The Alchemist                                                                                         1396161\n",
       "Where the Crawdads Sing                                                                               1317615\n",
       "Diagnostic and Statistical Manual of Mental Disorders, 5th Edition: DSM-5                              701295\n",
       "Harry Potter Paperback Box Set (Books 1-7)                                                             700492\n",
       "The Goldfinch: A Novel (Pulitzer Prize for Fiction)                                                    676880\n",
       "Becoming                                                                                               672463\n",
       "Fifty Shades of Grey: Book One of the Fifty Shades Trilogy (Fifty Shades of Grey Series)               661710\n",
       "The Fault in Our Stars                                                                                 656266\n",
       "A Game of Thrones / A Clash of Kings / A Storm of Swords / A Feast of Crows / A Dance with Dragons     592050\n",
       "Name: estimated_profit, dtype: int64"
      ]
     },
     "execution_count": 26,
     "metadata": {},
     "output_type": "execute_result"
    }
   ],
   "source": [
    "rich_df=df.groupby('name')['estimated_profit'].max()\n",
    "rich_df=rich_df.sort_values(ascending=False).head(10)\n",
    "rich_df"
   ]
  },
  {
   "cell_type": "code",
   "execution_count": 27,
   "id": "32ebf719",
   "metadata": {
    "execution": {
     "iopub.execute_input": "2024-03-05T04:30:57.959840Z",
     "iopub.status.busy": "2024-03-05T04:30:57.959060Z",
     "iopub.status.idle": "2024-03-05T04:30:58.582515Z",
     "shell.execute_reply": "2024-03-05T04:30:58.581035Z"
    },
    "papermill": {
     "duration": 0.653408,
     "end_time": "2024-03-05T04:30:58.585113",
     "exception": false,
     "start_time": "2024-03-05T04:30:57.931705",
     "status": "completed"
    },
    "tags": []
   },
   "outputs": [
    {
     "data": {
      "image/png": "[encoded data removed]",
      "text/plain": [
       "<Figure size 900x500 with 1 Axes>"
      ]
     },
     "metadata": {
      "needs_background": "light"
     },
     "output_type": "display_data"
    }
   ],
   "source": [
    "sns.barplot(x=rich_df,y=rich_df.index)\n",
    "plt.xlabel(\"Earned(millions)\")\n",
    "plt.ylabel(\"Books\")\n",
    "plt.title('Earning by Books');"
   ]
  },
  {
   "cell_type": "markdown",
   "id": "21c2612d",
   "metadata": {
    "papermill": {
     "duration": 0.026758,
     "end_time": "2024-03-05T04:30:58.639197",
     "exception": false,
     "start_time": "2024-03-05T04:30:58.612439",
     "status": "completed"
    },
    "tags": []
   },
   "source": [
    "# Q2: Books which earned the most per year (2009-19)"
   ]
  },
  {
   "cell_type": "code",
   "execution_count": 28,
   "id": "746b02c2",
   "metadata": {
    "execution": {
     "iopub.execute_input": "2024-03-05T04:30:58.696582Z",
     "iopub.status.busy": "2024-03-05T04:30:58.696039Z",
     "iopub.status.idle": "2024-03-05T04:30:58.716621Z",
     "shell.execute_reply": "2024-03-05T04:30:58.715148Z"
    },
    "papermill": {
     "duration": 0.052101,
     "end_time": "2024-03-05T04:30:58.718887",
     "exception": false,
     "start_time": "2024-03-05T04:30:58.666786",
     "status": "completed"
    },
    "tags": []
   },
   "outputs": [
    {
     "name": "stderr",
     "output_type": "stream",
     "text": [
      "/tmp/ipykernel_18/3486121753.py:1: FutureWarning: The provided callable <built-in function max> is currently using SeriesGroupBy.max. In a future version of pandas, the provided callable will be used directly. To keep current behavior pass the string \"max\" instead.\n",
      "  most_earning_book_per_year=df[df.groupby('year')['estimated_profit'].transform(max) == df['estimated_profit']]\n"
     ]
    },
    {
     "data": {
      "text/html": [
       "<div>\n",
       "<style scoped>\n",
       "    .dataframe tbody tr th:only-of-type {\n",
       "        vertical-align: middle;\n",
       "    }\n",
       "\n",
       "    .dataframe tbody tr th {\n",
       "        vertical-align: top;\n",
       "    }\n",
       "\n",
       "    .dataframe thead th {\n",
       "        text-align: right;\n",
       "    }\n",
       "</style>\n",
       "<table border=\"1\" class=\"dataframe\">\n",
       "  <thead>\n",
       "    <tr style=\"text-align: right;\">\n",
       "      <th></th>\n",
       "      <th>name</th>\n",
       "      <th>author</th>\n",
       "      <th>user_rating</th>\n",
       "      <th>reviews</th>\n",
       "      <th>price</th>\n",
       "      <th>year</th>\n",
       "      <th>genre</th>\n",
       "      <th>estimated_profit</th>\n",
       "    </tr>\n",
       "  </thead>\n",
       "  <tbody>\n",
       "    <tr>\n",
       "      <th>32</th>\n",
       "      <td>Becoming</td>\n",
       "      <td>Michelle Obama</td>\n",
       "      <td>4.8</td>\n",
       "      <td>61133</td>\n",
       "      <td>11</td>\n",
       "      <td>2018</td>\n",
       "      <td>Non Fiction</td>\n",
       "      <td>672463</td>\n",
       "    </tr>\n",
       "    <tr>\n",
       "      <th>69</th>\n",
       "      <td>Diagnostic and Statistical Manual of Mental Di...</td>\n",
       "      <td>American Psychiatric Association</td>\n",
       "      <td>4.5</td>\n",
       "      <td>6679</td>\n",
       "      <td>105</td>\n",
       "      <td>2013</td>\n",
       "      <td>Non Fiction</td>\n",
       "      <td>701295</td>\n",
       "    </tr>\n",
       "    <tr>\n",
       "      <th>106</th>\n",
       "      <td>Fifty Shades of Grey: Book One of the Fifty Sh...</td>\n",
       "      <td>E L James</td>\n",
       "      <td>3.8</td>\n",
       "      <td>47265</td>\n",
       "      <td>14</td>\n",
       "      <td>2012</td>\n",
       "      <td>Fiction</td>\n",
       "      <td>661710</td>\n",
       "    </tr>\n",
       "    <tr>\n",
       "      <th>159</th>\n",
       "      <td>Harry Potter Paperback Box Set (Books 1-7)</td>\n",
       "      <td>J. K. Rowling</td>\n",
       "      <td>4.8</td>\n",
       "      <td>13471</td>\n",
       "      <td>52</td>\n",
       "      <td>2016</td>\n",
       "      <td>Fiction</td>\n",
       "      <td>700492</td>\n",
       "    </tr>\n",
       "    <tr>\n",
       "      <th>265</th>\n",
       "      <td>Player's Handbook (Dungeons &amp; Dragons)</td>\n",
       "      <td>Wizards RPG Team</td>\n",
       "      <td>4.8</td>\n",
       "      <td>16990</td>\n",
       "      <td>27</td>\n",
       "      <td>2017</td>\n",
       "      <td>Fiction</td>\n",
       "      <td>458730</td>\n",
       "    </tr>\n",
       "    <tr>\n",
       "      <th>271</th>\n",
       "      <td>Publication Manual of the American Psychologic...</td>\n",
       "      <td>American Psychological Association</td>\n",
       "      <td>4.5</td>\n",
       "      <td>8580</td>\n",
       "      <td>46</td>\n",
       "      <td>2009</td>\n",
       "      <td>Non Fiction</td>\n",
       "      <td>394680</td>\n",
       "    </tr>\n",
       "    <tr>\n",
       "      <th>338</th>\n",
       "      <td>The Alchemist</td>\n",
       "      <td>Paulo Coelho</td>\n",
       "      <td>4.7</td>\n",
       "      <td>35799</td>\n",
       "      <td>39</td>\n",
       "      <td>2014</td>\n",
       "      <td>Fiction</td>\n",
       "      <td>1396161</td>\n",
       "    </tr>\n",
       "    <tr>\n",
       "      <th>382</th>\n",
       "      <td>The Girl on the Train</td>\n",
       "      <td>Paula Hawkins</td>\n",
       "      <td>4.1</td>\n",
       "      <td>79446</td>\n",
       "      <td>18</td>\n",
       "      <td>2015</td>\n",
       "      <td>Fiction</td>\n",
       "      <td>1430028</td>\n",
       "    </tr>\n",
       "    <tr>\n",
       "      <th>410</th>\n",
       "      <td>The Hunger Games Trilogy Boxed Set (1)</td>\n",
       "      <td>Suzanne Collins</td>\n",
       "      <td>4.8</td>\n",
       "      <td>16949</td>\n",
       "      <td>30</td>\n",
       "      <td>2011</td>\n",
       "      <td>Fiction</td>\n",
       "      <td>508470</td>\n",
       "    </tr>\n",
       "    <tr>\n",
       "      <th>515</th>\n",
       "      <td>Unbroken: A World War II Story of Survival, Re...</td>\n",
       "      <td>Laura Hillenbrand</td>\n",
       "      <td>4.8</td>\n",
       "      <td>29673</td>\n",
       "      <td>16</td>\n",
       "      <td>2010</td>\n",
       "      <td>Non Fiction</td>\n",
       "      <td>474768</td>\n",
       "    </tr>\n",
       "    <tr>\n",
       "      <th>534</th>\n",
       "      <td>Where the Crawdads Sing</td>\n",
       "      <td>Delia Owens</td>\n",
       "      <td>4.8</td>\n",
       "      <td>87841</td>\n",
       "      <td>15</td>\n",
       "      <td>2019</td>\n",
       "      <td>Fiction</td>\n",
       "      <td>1317615</td>\n",
       "    </tr>\n",
       "  </tbody>\n",
       "</table>\n",
       "</div>"
      ],
      "text/plain": [
       "                                                  name  \\\n",
       "32                                            Becoming   \n",
       "69   Diagnostic and Statistical Manual of Mental Di...   \n",
       "106  Fifty Shades of Grey: Book One of the Fifty Sh...   \n",
       "159         Harry Potter Paperback Box Set (Books 1-7)   \n",
       "265             Player's Handbook (Dungeons & Dragons)   \n",
       "271  Publication Manual of the American Psychologic...   \n",
       "338                                      The Alchemist   \n",
       "382                              The Girl on the Train   \n",
       "410             The Hunger Games Trilogy Boxed Set (1)   \n",
       "515  Unbroken: A World War II Story of Survival, Re...   \n",
       "534                            Where the Crawdads Sing   \n",
       "\n",
       "                                 author  user_rating  reviews  price  year  \\\n",
       "32                       Michelle Obama          4.8    61133     11  2018   \n",
       "69     American Psychiatric Association          4.5     6679    105  2013   \n",
       "106                           E L James          3.8    47265     14  2012   \n",
       "159                       J. K. Rowling          4.8    13471     52  2016   \n",
       "265                    Wizards RPG Team          4.8    16990     27  2017   \n",
       "271  American Psychological Association          4.5     8580     46  2009   \n",
       "338                        Paulo Coelho          4.7    35799     39  2014   \n",
       "382                       Paula Hawkins          4.1    79446     18  2015   \n",
       "410                     Suzanne Collins          4.8    16949     30  2011   \n",
       "515                   Laura Hillenbrand          4.8    29673     16  2010   \n",
       "534                         Delia Owens          4.8    87841     15  2019   \n",
       "\n",
       "           genre  estimated_profit  \n",
       "32   Non Fiction            672463  \n",
       "69   Non Fiction            701295  \n",
       "106      Fiction            661710  \n",
       "159      Fiction            700492  \n",
       "265      Fiction            458730  \n",
       "271  Non Fiction            394680  \n",
       "338      Fiction           1396161  \n",
       "382      Fiction           1430028  \n",
       "410      Fiction            508470  \n",
       "515  Non Fiction            474768  \n",
       "534      Fiction           1317615  "
      ]
     },
     "execution_count": 28,
     "metadata": {},
     "output_type": "execute_result"
    }
   ],
   "source": [
    "most_earning_book_per_year=df[df.groupby('year')['estimated_profit'].transform(max) == df['estimated_profit']]\n",
    "most_earning_book_per_year"
   ]
  },
  {
   "cell_type": "code",
   "execution_count": 29,
   "id": "2cdd01cb",
   "metadata": {
    "execution": {
     "iopub.execute_input": "2024-03-05T04:30:58.776845Z",
     "iopub.status.busy": "2024-03-05T04:30:58.776216Z",
     "iopub.status.idle": "2024-03-05T04:30:58.783398Z",
     "shell.execute_reply": "2024-03-05T04:30:58.782350Z"
    },
    "papermill": {
     "duration": 0.038724,
     "end_time": "2024-03-05T04:30:58.785852",
     "exception": false,
     "start_time": "2024-03-05T04:30:58.747128",
     "status": "completed"
    },
    "tags": []
   },
   "outputs": [],
   "source": [
    "most_earning_book_per_year=most_earning_book_per_year.sort_values('year').set_index('year')"
   ]
  },
  {
   "cell_type": "code",
   "execution_count": 30,
   "id": "df176410",
   "metadata": {
    "execution": {
     "iopub.execute_input": "2024-03-05T04:30:58.843083Z",
     "iopub.status.busy": "2024-03-05T04:30:58.841890Z",
     "iopub.status.idle": "2024-03-05T04:30:58.858352Z",
     "shell.execute_reply": "2024-03-05T04:30:58.857326Z"
    },
    "papermill": {
     "duration": 0.047549,
     "end_time": "2024-03-05T04:30:58.860748",
     "exception": false,
     "start_time": "2024-03-05T04:30:58.813199",
     "status": "completed"
    },
    "tags": []
   },
   "outputs": [
    {
     "data": {
      "text/html": [
       "<div>\n",
       "<style scoped>\n",
       "    .dataframe tbody tr th:only-of-type {\n",
       "        vertical-align: middle;\n",
       "    }\n",
       "\n",
       "    .dataframe tbody tr th {\n",
       "        vertical-align: top;\n",
       "    }\n",
       "\n",
       "    .dataframe thead th {\n",
       "        text-align: right;\n",
       "    }\n",
       "</style>\n",
       "<table border=\"1\" class=\"dataframe\">\n",
       "  <thead>\n",
       "    <tr style=\"text-align: right;\">\n",
       "      <th></th>\n",
       "      <th>name</th>\n",
       "      <th>author</th>\n",
       "      <th>user_rating</th>\n",
       "      <th>reviews</th>\n",
       "      <th>price</th>\n",
       "      <th>genre</th>\n",
       "      <th>estimated_profit</th>\n",
       "    </tr>\n",
       "    <tr>\n",
       "      <th>year</th>\n",
       "      <th></th>\n",
       "      <th></th>\n",
       "      <th></th>\n",
       "      <th></th>\n",
       "      <th></th>\n",
       "      <th></th>\n",
       "      <th></th>\n",
       "    </tr>\n",
       "  </thead>\n",
       "  <tbody>\n",
       "    <tr>\n",
       "      <th>2009</th>\n",
       "      <td>Publication Manual of the American Psychologic...</td>\n",
       "      <td>American Psychological Association</td>\n",
       "      <td>4.5</td>\n",
       "      <td>8580</td>\n",
       "      <td>46</td>\n",
       "      <td>Non Fiction</td>\n",
       "      <td>394680</td>\n",
       "    </tr>\n",
       "    <tr>\n",
       "      <th>2010</th>\n",
       "      <td>Unbroken: A World War II Story of Survival, Re...</td>\n",
       "      <td>Laura Hillenbrand</td>\n",
       "      <td>4.8</td>\n",
       "      <td>29673</td>\n",
       "      <td>16</td>\n",
       "      <td>Non Fiction</td>\n",
       "      <td>474768</td>\n",
       "    </tr>\n",
       "    <tr>\n",
       "      <th>2011</th>\n",
       "      <td>The Hunger Games Trilogy Boxed Set (1)</td>\n",
       "      <td>Suzanne Collins</td>\n",
       "      <td>4.8</td>\n",
       "      <td>16949</td>\n",
       "      <td>30</td>\n",
       "      <td>Fiction</td>\n",
       "      <td>508470</td>\n",
       "    </tr>\n",
       "    <tr>\n",
       "      <th>2012</th>\n",
       "      <td>Fifty Shades of Grey: Book One of the Fifty Sh...</td>\n",
       "      <td>E L James</td>\n",
       "      <td>3.8</td>\n",
       "      <td>47265</td>\n",
       "      <td>14</td>\n",
       "      <td>Fiction</td>\n",
       "      <td>661710</td>\n",
       "    </tr>\n",
       "    <tr>\n",
       "      <th>2013</th>\n",
       "      <td>Diagnostic and Statistical Manual of Mental Di...</td>\n",
       "      <td>American Psychiatric Association</td>\n",
       "      <td>4.5</td>\n",
       "      <td>6679</td>\n",
       "      <td>105</td>\n",
       "      <td>Non Fiction</td>\n",
       "      <td>701295</td>\n",
       "    </tr>\n",
       "    <tr>\n",
       "      <th>2014</th>\n",
       "      <td>The Alchemist</td>\n",
       "      <td>Paulo Coelho</td>\n",
       "      <td>4.7</td>\n",
       "      <td>35799</td>\n",
       "      <td>39</td>\n",
       "      <td>Fiction</td>\n",
       "      <td>1396161</td>\n",
       "    </tr>\n",
       "    <tr>\n",
       "      <th>2015</th>\n",
       "      <td>The Girl on the Train</td>\n",
       "      <td>Paula Hawkins</td>\n",
       "      <td>4.1</td>\n",
       "      <td>79446</td>\n",
       "      <td>18</td>\n",
       "      <td>Fiction</td>\n",
       "      <td>1430028</td>\n",
       "    </tr>\n",
       "    <tr>\n",
       "      <th>2016</th>\n",
       "      <td>Harry Potter Paperback Box Set (Books 1-7)</td>\n",
       "      <td>J. K. Rowling</td>\n",
       "      <td>4.8</td>\n",
       "      <td>13471</td>\n",
       "      <td>52</td>\n",
       "      <td>Fiction</td>\n",
       "      <td>700492</td>\n",
       "    </tr>\n",
       "    <tr>\n",
       "      <th>2017</th>\n",
       "      <td>Player's Handbook (Dungeons &amp; Dragons)</td>\n",
       "      <td>Wizards RPG Team</td>\n",
       "      <td>4.8</td>\n",
       "      <td>16990</td>\n",
       "      <td>27</td>\n",
       "      <td>Fiction</td>\n",
       "      <td>458730</td>\n",
       "    </tr>\n",
       "    <tr>\n",
       "      <th>2018</th>\n",
       "      <td>Becoming</td>\n",
       "      <td>Michelle Obama</td>\n",
       "      <td>4.8</td>\n",
       "      <td>61133</td>\n",
       "      <td>11</td>\n",
       "      <td>Non Fiction</td>\n",
       "      <td>672463</td>\n",
       "    </tr>\n",
       "    <tr>\n",
       "      <th>2019</th>\n",
       "      <td>Where the Crawdads Sing</td>\n",
       "      <td>Delia Owens</td>\n",
       "      <td>4.8</td>\n",
       "      <td>87841</td>\n",
       "      <td>15</td>\n",
       "      <td>Fiction</td>\n",
       "      <td>1317615</td>\n",
       "    </tr>\n",
       "  </tbody>\n",
       "</table>\n",
       "</div>"
      ],
      "text/plain": [
       "                                                   name  \\\n",
       "year                                                      \n",
       "2009  Publication Manual of the American Psychologic...   \n",
       "2010  Unbroken: A World War II Story of Survival, Re...   \n",
       "2011             The Hunger Games Trilogy Boxed Set (1)   \n",
       "2012  Fifty Shades of Grey: Book One of the Fifty Sh...   \n",
       "2013  Diagnostic and Statistical Manual of Mental Di...   \n",
       "2014                                      The Alchemist   \n",
       "2015                              The Girl on the Train   \n",
       "2016         Harry Potter Paperback Box Set (Books 1-7)   \n",
       "2017             Player's Handbook (Dungeons & Dragons)   \n",
       "2018                                           Becoming   \n",
       "2019                            Where the Crawdads Sing   \n",
       "\n",
       "                                  author  user_rating  reviews  price  \\\n",
       "year                                                                    \n",
       "2009  American Psychological Association          4.5     8580     46   \n",
       "2010                   Laura Hillenbrand          4.8    29673     16   \n",
       "2011                     Suzanne Collins          4.8    16949     30   \n",
       "2012                           E L James          3.8    47265     14   \n",
       "2013    American Psychiatric Association          4.5     6679    105   \n",
       "2014                        Paulo Coelho          4.7    35799     39   \n",
       "2015                       Paula Hawkins          4.1    79446     18   \n",
       "2016                       J. K. Rowling          4.8    13471     52   \n",
       "2017                    Wizards RPG Team          4.8    16990     27   \n",
       "2018                      Michelle Obama          4.8    61133     11   \n",
       "2019                         Delia Owens          4.8    87841     15   \n",
       "\n",
       "            genre  estimated_profit  \n",
       "year                                 \n",
       "2009  Non Fiction            394680  \n",
       "2010  Non Fiction            474768  \n",
       "2011      Fiction            508470  \n",
       "2012      Fiction            661710  \n",
       "2013  Non Fiction            701295  \n",
       "2014      Fiction           1396161  \n",
       "2015      Fiction           1430028  \n",
       "2016      Fiction            700492  \n",
       "2017      Fiction            458730  \n",
       "2018  Non Fiction            672463  \n",
       "2019      Fiction           1317615  "
      ]
     },
     "execution_count": 30,
     "metadata": {},
     "output_type": "execute_result"
    }
   ],
   "source": [
    "most_earning_book_per_year"
   ]
  },
  {
   "cell_type": "markdown",
   "id": "cc41efca",
   "metadata": {
    "papermill": {
     "duration": 0.027939,
     "end_time": "2024-03-05T04:30:58.917373",
     "exception": false,
     "start_time": "2024-03-05T04:30:58.889434",
     "status": "completed"
    },
    "tags": []
   },
   "source": [
    "### What is the average earning of each genre on per year basis."
   ]
  },
  {
   "cell_type": "code",
   "execution_count": 31,
   "id": "e1653d33",
   "metadata": {
    "execution": {
     "iopub.execute_input": "2024-03-05T04:30:58.977921Z",
     "iopub.status.busy": "2024-03-05T04:30:58.977418Z",
     "iopub.status.idle": "2024-03-05T04:30:58.985516Z",
     "shell.execute_reply": "2024-03-05T04:30:58.984131Z"
    },
    "papermill": {
     "duration": 0.043008,
     "end_time": "2024-03-05T04:30:58.988438",
     "exception": false,
     "start_time": "2024-03-05T04:30:58.945430",
     "status": "completed"
    },
    "tags": []
   },
   "outputs": [],
   "source": [
    "genres_per_year_mean=df.groupby(['year','genre'])['estimated_profit'].mean().round(2)"
   ]
  },
  {
   "cell_type": "code",
   "execution_count": 32,
   "id": "764581af",
   "metadata": {
    "execution": {
     "iopub.execute_input": "2024-03-05T04:30:59.050033Z",
     "iopub.status.busy": "2024-03-05T04:30:59.049537Z",
     "iopub.status.idle": "2024-03-05T04:30:59.065339Z",
     "shell.execute_reply": "2024-03-05T04:30:59.064088Z"
    },
    "papermill": {
     "duration": 0.050527,
     "end_time": "2024-03-05T04:30:59.067818",
     "exception": false,
     "start_time": "2024-03-05T04:30:59.017291",
     "status": "completed"
    },
    "tags": []
   },
   "outputs": [
    {
     "data": {
      "text/html": [
       "<div>\n",
       "<style scoped>\n",
       "    .dataframe tbody tr th:only-of-type {\n",
       "        vertical-align: middle;\n",
       "    }\n",
       "\n",
       "    .dataframe tbody tr th {\n",
       "        vertical-align: top;\n",
       "    }\n",
       "\n",
       "    .dataframe thead th {\n",
       "        text-align: right;\n",
       "    }\n",
       "</style>\n",
       "<table border=\"1\" class=\"dataframe\">\n",
       "  <thead>\n",
       "    <tr style=\"text-align: right;\">\n",
       "      <th></th>\n",
       "      <th></th>\n",
       "      <th>estimated_profit</th>\n",
       "    </tr>\n",
       "    <tr>\n",
       "      <th>year</th>\n",
       "      <th>genre</th>\n",
       "      <th></th>\n",
       "    </tr>\n",
       "  </thead>\n",
       "  <tbody>\n",
       "    <tr>\n",
       "      <th rowspan=\"2\" valign=\"top\">2009</th>\n",
       "      <th>Fiction</th>\n",
       "      <td>85776.79</td>\n",
       "    </tr>\n",
       "    <tr>\n",
       "      <th>Non Fiction</th>\n",
       "      <td>58024.58</td>\n",
       "    </tr>\n",
       "    <tr>\n",
       "      <th rowspan=\"2\" valign=\"top\">2010</th>\n",
       "      <th>Fiction</th>\n",
       "      <td>84522.00</td>\n",
       "    </tr>\n",
       "    <tr>\n",
       "      <th>Non Fiction</th>\n",
       "      <td>64335.63</td>\n",
       "    </tr>\n",
       "    <tr>\n",
       "      <th rowspan=\"2\" valign=\"top\">2011</th>\n",
       "      <th>Fiction</th>\n",
       "      <td>117434.67</td>\n",
       "    </tr>\n",
       "    <tr>\n",
       "      <th>Non Fiction</th>\n",
       "      <td>106295.21</td>\n",
       "    </tr>\n",
       "    <tr>\n",
       "      <th rowspan=\"2\" valign=\"top\">2012</th>\n",
       "      <th>Fiction</th>\n",
       "      <td>242780.67</td>\n",
       "    </tr>\n",
       "    <tr>\n",
       "      <th>Non Fiction</th>\n",
       "      <td>132104.31</td>\n",
       "    </tr>\n",
       "    <tr>\n",
       "      <th rowspan=\"2\" valign=\"top\">2013</th>\n",
       "      <th>Fiction</th>\n",
       "      <td>226853.71</td>\n",
       "    </tr>\n",
       "    <tr>\n",
       "      <th>Non Fiction</th>\n",
       "      <td>110657.31</td>\n",
       "    </tr>\n",
       "    <tr>\n",
       "      <th rowspan=\"2\" valign=\"top\">2014</th>\n",
       "      <th>Fiction</th>\n",
       "      <td>236487.86</td>\n",
       "    </tr>\n",
       "    <tr>\n",
       "      <th>Non Fiction</th>\n",
       "      <td>179397.71</td>\n",
       "    </tr>\n",
       "    <tr>\n",
       "      <th rowspan=\"2\" valign=\"top\">2015</th>\n",
       "      <th>Fiction</th>\n",
       "      <td>256752.82</td>\n",
       "    </tr>\n",
       "    <tr>\n",
       "      <th>Non Fiction</th>\n",
       "      <td>102435.36</td>\n",
       "    </tr>\n",
       "    <tr>\n",
       "      <th rowspan=\"2\" valign=\"top\">2016</th>\n",
       "      <th>Fiction</th>\n",
       "      <td>213931.84</td>\n",
       "    </tr>\n",
       "    <tr>\n",
       "      <th>Non Fiction</th>\n",
       "      <td>125381.45</td>\n",
       "    </tr>\n",
       "    <tr>\n",
       "      <th rowspan=\"2\" valign=\"top\">2017</th>\n",
       "      <th>Fiction</th>\n",
       "      <td>129188.17</td>\n",
       "    </tr>\n",
       "    <tr>\n",
       "      <th>Non Fiction</th>\n",
       "      <td>137256.88</td>\n",
       "    </tr>\n",
       "    <tr>\n",
       "      <th rowspan=\"2\" valign=\"top\">2018</th>\n",
       "      <th>Fiction</th>\n",
       "      <td>117636.00</td>\n",
       "    </tr>\n",
       "    <tr>\n",
       "      <th>Non Fiction</th>\n",
       "      <td>162524.79</td>\n",
       "    </tr>\n",
       "    <tr>\n",
       "      <th rowspan=\"2\" valign=\"top\">2019</th>\n",
       "      <th>Fiction</th>\n",
       "      <td>191812.50</td>\n",
       "    </tr>\n",
       "    <tr>\n",
       "      <th>Non Fiction</th>\n",
       "      <td>150023.50</td>\n",
       "    </tr>\n",
       "  </tbody>\n",
       "</table>\n",
       "</div>"
      ],
      "text/plain": [
       "                  estimated_profit\n",
       "year genre                        \n",
       "2009 Fiction              85776.79\n",
       "     Non Fiction          58024.58\n",
       "2010 Fiction              84522.00\n",
       "     Non Fiction          64335.63\n",
       "2011 Fiction             117434.67\n",
       "     Non Fiction         106295.21\n",
       "2012 Fiction             242780.67\n",
       "     Non Fiction         132104.31\n",
       "2013 Fiction             226853.71\n",
       "     Non Fiction         110657.31\n",
       "2014 Fiction             236487.86\n",
       "     Non Fiction         179397.71\n",
       "2015 Fiction             256752.82\n",
       "     Non Fiction         102435.36\n",
       "2016 Fiction             213931.84\n",
       "     Non Fiction         125381.45\n",
       "2017 Fiction             129188.17\n",
       "     Non Fiction         137256.88\n",
       "2018 Fiction             117636.00\n",
       "     Non Fiction         162524.79\n",
       "2019 Fiction             191812.50\n",
       "     Non Fiction         150023.50"
      ]
     },
     "execution_count": 32,
     "metadata": {},
     "output_type": "execute_result"
    }
   ],
   "source": [
    "pd.DataFrame(genres_per_year_mean)"
   ]
  },
  {
   "cell_type": "markdown",
   "id": "aefc8491",
   "metadata": {
    "papermill": {
     "duration": 0.028209,
     "end_time": "2024-03-05T04:30:59.124933",
     "exception": false,
     "start_time": "2024-03-05T04:30:59.096724",
     "status": "completed"
    },
    "tags": []
   },
   "source": [
    "#### Q4: Trend of books selling (Top rated) over the years."
   ]
  },
  {
   "cell_type": "code",
   "execution_count": 33,
   "id": "12acace6",
   "metadata": {
    "execution": {
     "iopub.execute_input": "2024-03-05T04:30:59.187512Z",
     "iopub.status.busy": "2024-03-05T04:30:59.187092Z",
     "iopub.status.idle": "2024-03-05T04:30:59.194780Z",
     "shell.execute_reply": "2024-03-05T04:30:59.193258Z"
    },
    "papermill": {
     "duration": 0.040694,
     "end_time": "2024-03-05T04:30:59.197459",
     "exception": false,
     "start_time": "2024-03-05T04:30:59.156765",
     "status": "completed"
    },
    "tags": []
   },
   "outputs": [],
   "source": [
    "Earning_Graph=df.groupby('year')['estimated_profit'].sum()"
   ]
  },
  {
   "cell_type": "code",
   "execution_count": 34,
   "id": "28aa7d59",
   "metadata": {
    "execution": {
     "iopub.execute_input": "2024-03-05T04:30:59.259871Z",
     "iopub.status.busy": "2024-03-05T04:30:59.258887Z",
     "iopub.status.idle": "2024-03-05T04:30:59.784121Z",
     "shell.execute_reply": "2024-03-05T04:30:59.782009Z"
    },
    "papermill": {
     "duration": 0.560217,
     "end_time": "2024-03-05T04:30:59.787144",
     "exception": false,
     "start_time": "2024-03-05T04:30:59.226927",
     "status": "completed"
    },
    "tags": []
   },
   "outputs": [
    {
     "name": "stderr",
     "output_type": "stream",
     "text": [
      "/opt/conda/lib/python3.10/site-packages/seaborn/_oldcore.py:1119: FutureWarning: use_inf_as_na option is deprecated and will be removed in a future version. Convert inf values to NaN before operating instead.\n",
      "  with pd.option_context('mode.use_inf_as_na', True):\n",
      "/opt/conda/lib/python3.10/site-packages/seaborn/_oldcore.py:1119: FutureWarning: use_inf_as_na option is deprecated and will be removed in a future version. Convert inf values to NaN before operating instead.\n",
      "  with pd.option_context('mode.use_inf_as_na', True):\n"
     ]
    },
    {
     "data": {
      "image/png": "[encoded data removed]",
      "text/plain": [
       "<Figure size 900x500 with 1 Axes>"
      ]
     },
     "metadata": {
      "needs_background": "light"
     },
     "output_type": "display_data"
    },
    {
     "data": {
      "text/plain": [
       "<Figure size 1200x1200 with 0 Axes>"
      ]
     },
     "metadata": {},
     "output_type": "display_data"
    }
   ],
   "source": [
    "sns.lineplot(data=Earning_Graph)\n",
    "plt.xlabel('Year')\n",
    "plt.ylabel(\"Earned\")\n",
    "plt.title(\"EARNING PER YEAR\")\n",
    "plt.figure(figsize=(12,12));"
   ]
  },
  {
   "cell_type": "markdown",
   "id": "270ff36d",
   "metadata": {
    "papermill": {
     "duration": 0.033254,
     "end_time": "2024-03-05T04:30:59.852272",
     "exception": false,
     "start_time": "2024-03-05T04:30:59.819018",
     "status": "completed"
    },
    "tags": []
   },
   "source": [
    "#### Q5: Top 5 authors which earned the most."
   ]
  },
  {
   "cell_type": "code",
   "execution_count": 35,
   "id": "3478ca9a",
   "metadata": {
    "execution": {
     "iopub.execute_input": "2024-03-05T04:30:59.917178Z",
     "iopub.status.busy": "2024-03-05T04:30:59.916725Z",
     "iopub.status.idle": "2024-03-05T04:30:59.924956Z",
     "shell.execute_reply": "2024-03-05T04:30:59.923290Z"
    },
    "papermill": {
     "duration": 0.044509,
     "end_time": "2024-03-05T04:30:59.927840",
     "exception": false,
     "start_time": "2024-03-05T04:30:59.883331",
     "status": "completed"
    },
    "tags": []
   },
   "outputs": [],
   "source": [
    "authors=df.groupby('author')['estimated_profit'].sum()"
   ]
  },
  {
   "cell_type": "code",
   "execution_count": 36,
   "id": "f0910ede",
   "metadata": {
    "execution": {
     "iopub.execute_input": "2024-03-05T04:30:59.989591Z",
     "iopub.status.busy": "2024-03-05T04:30:59.989185Z",
     "iopub.status.idle": "2024-03-05T04:30:59.998415Z",
     "shell.execute_reply": "2024-03-05T04:30:59.997299Z"
    },
    "papermill": {
     "duration": 0.042686,
     "end_time": "2024-03-05T04:31:00.000704",
     "exception": false,
     "start_time": "2024-03-05T04:30:59.958018",
     "status": "completed"
    },
    "tags": []
   },
   "outputs": [
    {
     "data": {
      "text/plain": [
       "author\n",
       "American Psychological Association    3946800\n",
       "Suzanne Collins                       3368646\n",
       "E L James                             2517303\n",
       "John Green                            2381609\n",
       "Laura Hillenbrand                     2284821\n",
       "Paula Hawkins                         1986150\n",
       "Gillian Flynn                         1660859\n",
       "Gary Chapman                          1516167\n",
       "Dr. Seuss                             1423598\n",
       "American Psychiatric Association      1402590\n",
       "Name: estimated_profit, dtype: int64"
      ]
     },
     "execution_count": 36,
     "metadata": {},
     "output_type": "execute_result"
    }
   ],
   "source": [
    "authors=authors.sort_values(ascending=False).head(10)\n",
    "authors"
   ]
  },
  {
   "cell_type": "code",
   "execution_count": 37,
   "id": "db006fad",
   "metadata": {
    "execution": {
     "iopub.execute_input": "2024-03-05T04:31:00.066737Z",
     "iopub.status.busy": "2024-03-05T04:31:00.065902Z",
     "iopub.status.idle": "2024-03-05T04:31:00.666021Z",
     "shell.execute_reply": "2024-03-05T04:31:00.664975Z"
    },
    "papermill": {
     "duration": 0.637591,
     "end_time": "2024-03-05T04:31:00.669532",
     "exception": false,
     "start_time": "2024-03-05T04:31:00.031941",
     "status": "completed"
    },
    "tags": []
   },
   "outputs": [
    {
     "data": {
      "image/png": "[encoded data removed]",
      "text/plain": [
       "<Figure size 900x500 with 1 Axes>"
      ]
     },
     "metadata": {
      "needs_background": "light"
     },
     "output_type": "display_data"
    }
   ],
   "source": [
    "sns.barplot(y=authors.index,x=authors)\n",
    "plt.title('The Money Makers ');"
   ]
  },
  {
   "cell_type": "markdown",
   "id": "932d0a0a",
   "metadata": {
    "papermill": {
     "duration": 0.031542,
     "end_time": "2024-03-05T04:31:00.738170",
     "exception": false,
     "start_time": "2024-03-05T04:31:00.706628",
     "status": "completed"
    },
    "tags": []
   },
   "source": [
    "# Thank you"
   ]
  }
 ],
 "metadata": {
  "kaggle": {
   "accelerator": "none",
   "dataSources": [
    {
     "datasetId": 4540631,
     "sourceId": 7763429,
     "sourceType": "datasetVersion"
    }
   ],
   "dockerImageVersionId": 30664,
   "isGpuEnabled": false,
   "isInternetEnabled": true,
   "language": "python",
   "sourceType": "notebook"
  },
  "kernelspec": {
   "display_name": "Python 3",
   "language": "python",
   "name": "python3"
  },
  "language_info": {
   "codemirror_mode": {
    "name": "ipython",
    "version": 3
   },
   "file_extension": ".py",
   "mimetype": "text/x-python",
   "name": "python",
   "nbconvert_exporter": "python",
   "pygments_lexer": "ipython3",
   "version": "3.10.13"
  },
  "papermill": {
   "default_parameters": {},
   "duration": 17.280223,
   "end_time": "2024-03-05T04:31:01.492031",
   "environment_variables": {},
   "exception": null,
   "input_path": "__notebook__.ipynb",
   "output_path": "__notebook__.ipynb",
   "parameters": {},
   "start_time": "2024-03-05T04:30:44.211808",
   "version": "2.3.4"
  }
 },
 "nbformat": 4,
 "nbformat_minor": 5
}
