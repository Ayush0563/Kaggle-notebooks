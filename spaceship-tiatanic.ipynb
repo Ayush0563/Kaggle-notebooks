{
 "cells": [
  {
   "cell_type": "markdown",
   "id": "56aba2d0",
   "metadata": {
    "papermill": {
     "duration": 0.010148,
     "end_time": "2025-02-24T10:40:06.183965",
     "exception": false,
     "start_time": "2025-02-24T10:40:06.173817",
     "status": "completed"
    },
    "tags": []
   },
   "source": [
    "# Introduction"
   ]
  },
  {
   "cell_type": "markdown",
   "id": "d73427e3",
   "metadata": {
    "papermill": {
     "duration": 0.009385,
     "end_time": "2025-02-24T10:40:06.203058",
     "exception": false,
     "start_time": "2025-02-24T10:40:06.193673",
     "status": "completed"
    },
    "tags": []
   },
   "source": [
    "Welcome to this comprehensive guide on **binary classification** with the **Spaceship Titanic** dataset. The objective is to predict whether a passenger was transported to an alternate dimension during the Spaceship Titanic's collision with a spacetime anomaly.\n",
    "\n",
    "*We will cover:*\n",
    "* Exploratory Data Analysis\n",
    "* Feature Engineering\n",
    "* Data Cleaning\n",
    "* Encoding, Scaling and Preprocessing\n",
    "* Training Machine Learning Models\n",
    "* Cross Validation and Ensembling Predictions"
   ]
  },
  {
   "cell_type": "markdown",
   "id": "582718a1",
   "metadata": {
    "papermill": {
     "duration": 0.009221,
     "end_time": "2025-02-24T10:40:06.222356",
     "exception": false,
     "start_time": "2025-02-24T10:40:06.213135",
     "status": "completed"
    },
    "tags": []
   },
   "source": [
    "# Libraries"
   ]
  },
  {
   "cell_type": "code",
   "execution_count": 1,
   "id": "3cc5a5b8",
   "metadata": {
    "execution": {
     "iopub.execute_input": "2025-02-24T10:40:06.242992Z",
     "iopub.status.busy": "2025-02-24T10:40:06.242602Z",
     "iopub.status.idle": "2025-02-24T10:40:30.372237Z",
     "shell.execute_reply": "2025-02-24T10:40:30.371148Z"
    },
    "papermill": {
     "duration": 24.142397,
     "end_time": "2025-02-24T10:40:30.374323",
     "exception": false,
     "start_time": "2025-02-24T10:40:06.231926",
     "status": "completed"
    },
    "tags": []
   },
   "outputs": [],
   "source": [
    "# Core\n",
    "import numpy as np\n",
    "import pandas as pd\n",
    "import matplotlib.pyplot as plt\n",
    "%matplotlib inline\n",
    "import seaborn as sns\n",
    "from imblearn.over_sampling import SMOTE\n",
    "import itertools\n",
    "import warnings\n",
    "warnings.filterwarnings('ignore')\n",
    "import plotly.express as px\n",
    "import time\n",
    "\n",
    "# Sklearn\n",
    "from sklearn.model_selection import train_test_split, GridSearchCV, RandomizedSearchCV, StratifiedKFold\n",
    "from sklearn.metrics import accuracy_score, confusion_matrix, recall_score, precision_score, f1_score\n",
    "from sklearn.metrics import roc_auc_score, confusion_matrix, roc_curve\n",
    "from sklearn.preprocessing import StandardScaler, MinMaxScaler, OneHotEncoder, LabelEncoder\n",
    "from sklearn.feature_selection import mutual_info_classif\n",
    "from sklearn.decomposition import PCA\n",
    "from sklearn.compose import ColumnTransformer\n",
    "from sklearn.pipeline import Pipeline\n",
    "from sklearn.impute import SimpleImputer\n",
    "import eli5\n",
    "from eli5.sklearn import PermutationImportance\n",
    "from sklearn.utils import resample\n",
    "\n",
    "# Models\n",
    "from xgboost import XGBClassifier\n",
    "from lightgbm import LGBMClassifier\n",
    "from catboost import CatBoostClassifier\n",
    "from sklearn.naive_bayes import GaussianNB"
   ]
  },
  {
   "cell_type": "code",
   "execution_count": 2,
   "id": "41b9a217",
   "metadata": {
    "execution": {
     "iopub.execute_input": "2025-02-24T10:40:30.397101Z",
     "iopub.status.busy": "2025-02-24T10:40:30.396197Z",
     "iopub.status.idle": "2025-02-24T10:40:30.480812Z",
     "shell.execute_reply": "2025-02-24T10:40:30.479716Z"
    },
    "papermill": {
     "duration": 0.097927,
     "end_time": "2025-02-24T10:40:30.483058",
     "exception": false,
     "start_time": "2025-02-24T10:40:30.385131",
     "status": "completed"
    },
    "tags": []
   },
   "outputs": [],
   "source": [
    "train= pd.read_csv(\"/kaggle/input/spaceship-titanic/train.csv\")\n",
    "test= pd.read_csv(\"/kaggle/input/spaceship-titanic/test.csv\")"
   ]
  },
  {
   "cell_type": "code",
   "execution_count": 3,
   "id": "f4cf00bb",
   "metadata": {
    "execution": {
     "iopub.execute_input": "2025-02-24T10:40:30.503922Z",
     "iopub.status.busy": "2025-02-24T10:40:30.503473Z",
     "iopub.status.idle": "2025-02-24T10:40:30.510616Z",
     "shell.execute_reply": "2025-02-24T10:40:30.509304Z"
    },
    "papermill": {
     "duration": 0.019697,
     "end_time": "2025-02-24T10:40:30.512700",
     "exception": false,
     "start_time": "2025-02-24T10:40:30.493003",
     "status": "completed"
    },
    "tags": []
   },
   "outputs": [
    {
     "name": "stdout",
     "output_type": "stream",
     "text": [
      "train shape-> (8693, 14)\n",
      "test shape-> (4277, 13)\n"
     ]
    }
   ],
   "source": [
    "print('train shape->',train.shape)\n",
    "print('test shape->',test.shape)"
   ]
  },
  {
   "cell_type": "markdown",
   "id": "f5382171",
   "metadata": {
    "papermill": {
     "duration": 0.009194,
     "end_time": "2025-02-24T10:40:30.531867",
     "exception": false,
     "start_time": "2025-02-24T10:40:30.522673",
     "status": "completed"
    },
    "tags": []
   },
   "source": [
    "# EDA"
   ]
  },
  {
   "cell_type": "markdown",
   "id": "03d096c6",
   "metadata": {
    "papermill": {
     "duration": 0.009295,
     "end_time": "2025-02-24T10:40:30.550580",
     "exception": false,
     "start_time": "2025-02-24T10:40:30.541285",
     "status": "completed"
    },
    "tags": []
   },
   "source": [
    "*Feature descriptions:*\n",
    "> * **PassengerId** - A unique Id for each passenger. Each Id takes the form gggg_pp where gggg indicates a group the passenger is travelling with and pp is their number within the group. People in a group are often family members, but not always.\n",
    "> * **HomePlanet** - The planet the passenger departed from, typically their planet of permanent residence.\n",
    "> * **CryoSleep** - Indicates whether the passenger elected to be put into suspended animation for the duration of the voyage. Passengers in cryosleep are confined to their cabins.\n",
    "> * **Cabin** - The cabin number where the passenger is staying. Takes the form deck/num/side, where side can be either P for Port or S for Starboard.\n",
    "> * **Destination** - The planet the passenger will be debarking to.\n",
    "> * **Age** - The age of the passenger.\n",
    "> * **VIP** - Whether the passenger has paid for special VIP service during the voyage.\n",
    "> * **RoomService**, **FoodCourt**, **ShoppingMall**, **Spa**, **VRDeck** - Amount the passenger has billed at each of the Spaceship Titanic's many luxury amenities.\n",
    "> * **Name** - The first and last names of the passenger.\n",
    "> * **Transported** - Whether the passenger was transported to another dimension. This is the target, the column you are trying to predict."
   ]
  },
  {
   "cell_type": "code",
   "execution_count": 4,
   "id": "7bb4e862",
   "metadata": {
    "execution": {
     "iopub.execute_input": "2025-02-24T10:40:30.571074Z",
     "iopub.status.busy": "2025-02-24T10:40:30.570712Z",
     "iopub.status.idle": "2025-02-24T10:40:30.611067Z",
     "shell.execute_reply": "2025-02-24T10:40:30.609482Z"
    },
    "papermill": {
     "duration": 0.05277,
     "end_time": "2025-02-24T10:40:30.612961",
     "exception": false,
     "start_time": "2025-02-24T10:40:30.560191",
     "status": "completed"
    },
    "tags": []
   },
   "outputs": [
    {
     "name": "stdout",
     "output_type": "stream",
     "text": [
      "<class 'pandas.core.frame.DataFrame'>\n",
      "RangeIndex: 8693 entries, 0 to 8692\n",
      "Data columns (total 14 columns):\n",
      " #   Column        Non-Null Count  Dtype  \n",
      "---  ------        --------------  -----  \n",
      " 0   PassengerId   8693 non-null   object \n",
      " 1   HomePlanet    8492 non-null   object \n",
      " 2   CryoSleep     8476 non-null   object \n",
      " 3   Cabin         8494 non-null   object \n",
      " 4   Destination   8511 non-null   object \n",
      " 5   Age           8514 non-null   float64\n",
      " 6   VIP           8490 non-null   object \n",
      " 7   RoomService   8512 non-null   float64\n",
      " 8   FoodCourt     8510 non-null   float64\n",
      " 9   ShoppingMall  8485 non-null   float64\n",
      " 10  Spa           8510 non-null   float64\n",
      " 11  VRDeck        8505 non-null   float64\n",
      " 12  Name          8493 non-null   object \n",
      " 13  Transported   8693 non-null   bool   \n",
      "dtypes: bool(1), float64(6), object(7)\n",
      "memory usage: 891.5+ KB\n"
     ]
    }
   ],
   "source": [
    "train.info()"
   ]
  },
  {
   "cell_type": "code",
   "execution_count": 5,
   "id": "fd81ace8",
   "metadata": {
    "execution": {
     "iopub.execute_input": "2025-02-24T10:40:30.634227Z",
     "iopub.status.busy": "2025-02-24T10:40:30.633844Z",
     "iopub.status.idle": "2025-02-24T10:40:30.641336Z",
     "shell.execute_reply": "2025-02-24T10:40:30.639891Z"
    },
    "papermill": {
     "duration": 0.020385,
     "end_time": "2025-02-24T10:40:30.643367",
     "exception": false,
     "start_time": "2025-02-24T10:40:30.622982",
     "status": "completed"
    },
    "tags": []
   },
   "outputs": [
    {
     "data": {
      "text/plain": [
       "Index(['PassengerId', 'HomePlanet', 'CryoSleep', 'Cabin', 'Destination', 'Age',\n",
       "       'VIP', 'RoomService', 'FoodCourt', 'ShoppingMall', 'Spa', 'VRDeck',\n",
       "       'Name', 'Transported'],\n",
       "      dtype='object')"
      ]
     },
     "execution_count": 5,
     "metadata": {},
     "output_type": "execute_result"
    }
   ],
   "source": [
    "train.columns"
   ]
  },
  {
   "cell_type": "markdown",
   "id": "87f55337",
   "metadata": {
    "papermill": {
     "duration": 0.009536,
     "end_time": "2025-02-24T10:40:30.662913",
     "exception": false,
     "start_time": "2025-02-24T10:40:30.653377",
     "status": "completed"
    },
    "tags": []
   },
   "source": [
    "There are many features with object type we have convert it to int or float to train our models"
   ]
  },
  {
   "cell_type": "code",
   "execution_count": 6,
   "id": "925bc6cf",
   "metadata": {
    "execution": {
     "iopub.execute_input": "2025-02-24T10:40:30.684847Z",
     "iopub.status.busy": "2025-02-24T10:40:30.684428Z",
     "iopub.status.idle": "2025-02-24T10:40:30.721789Z",
     "shell.execute_reply": "2025-02-24T10:40:30.720663Z"
    },
    "papermill": {
     "duration": 0.05096,
     "end_time": "2025-02-24T10:40:30.723727",
     "exception": false,
     "start_time": "2025-02-24T10:40:30.672767",
     "status": "completed"
    },
    "tags": []
   },
   "outputs": [
    {
     "data": {
      "text/html": [
       "<div>\n",
       "<style scoped>\n",
       "    .dataframe tbody tr th:only-of-type {\n",
       "        vertical-align: middle;\n",
       "    }\n",
       "\n",
       "    .dataframe tbody tr th {\n",
       "        vertical-align: top;\n",
       "    }\n",
       "\n",
       "    .dataframe thead th {\n",
       "        text-align: right;\n",
       "    }\n",
       "</style>\n",
       "<table border=\"1\" class=\"dataframe\">\n",
       "  <thead>\n",
       "    <tr style=\"text-align: right;\">\n",
       "      <th></th>\n",
       "      <th>Age</th>\n",
       "      <th>RoomService</th>\n",
       "      <th>FoodCourt</th>\n",
       "      <th>ShoppingMall</th>\n",
       "      <th>Spa</th>\n",
       "      <th>VRDeck</th>\n",
       "    </tr>\n",
       "  </thead>\n",
       "  <tbody>\n",
       "    <tr>\n",
       "      <th>count</th>\n",
       "      <td>8514.000000</td>\n",
       "      <td>8512.000000</td>\n",
       "      <td>8510.000000</td>\n",
       "      <td>8485.000000</td>\n",
       "      <td>8510.000000</td>\n",
       "      <td>8505.000000</td>\n",
       "    </tr>\n",
       "    <tr>\n",
       "      <th>mean</th>\n",
       "      <td>28.827930</td>\n",
       "      <td>224.687617</td>\n",
       "      <td>458.077203</td>\n",
       "      <td>173.729169</td>\n",
       "      <td>311.138778</td>\n",
       "      <td>304.854791</td>\n",
       "    </tr>\n",
       "    <tr>\n",
       "      <th>std</th>\n",
       "      <td>14.489021</td>\n",
       "      <td>666.717663</td>\n",
       "      <td>1611.489240</td>\n",
       "      <td>604.696458</td>\n",
       "      <td>1136.705535</td>\n",
       "      <td>1145.717189</td>\n",
       "    </tr>\n",
       "    <tr>\n",
       "      <th>min</th>\n",
       "      <td>0.000000</td>\n",
       "      <td>0.000000</td>\n",
       "      <td>0.000000</td>\n",
       "      <td>0.000000</td>\n",
       "      <td>0.000000</td>\n",
       "      <td>0.000000</td>\n",
       "    </tr>\n",
       "    <tr>\n",
       "      <th>25%</th>\n",
       "      <td>19.000000</td>\n",
       "      <td>0.000000</td>\n",
       "      <td>0.000000</td>\n",
       "      <td>0.000000</td>\n",
       "      <td>0.000000</td>\n",
       "      <td>0.000000</td>\n",
       "    </tr>\n",
       "    <tr>\n",
       "      <th>50%</th>\n",
       "      <td>27.000000</td>\n",
       "      <td>0.000000</td>\n",
       "      <td>0.000000</td>\n",
       "      <td>0.000000</td>\n",
       "      <td>0.000000</td>\n",
       "      <td>0.000000</td>\n",
       "    </tr>\n",
       "    <tr>\n",
       "      <th>75%</th>\n",
       "      <td>38.000000</td>\n",
       "      <td>47.000000</td>\n",
       "      <td>76.000000</td>\n",
       "      <td>27.000000</td>\n",
       "      <td>59.000000</td>\n",
       "      <td>46.000000</td>\n",
       "    </tr>\n",
       "    <tr>\n",
       "      <th>max</th>\n",
       "      <td>79.000000</td>\n",
       "      <td>14327.000000</td>\n",
       "      <td>29813.000000</td>\n",
       "      <td>23492.000000</td>\n",
       "      <td>22408.000000</td>\n",
       "      <td>24133.000000</td>\n",
       "    </tr>\n",
       "  </tbody>\n",
       "</table>\n",
       "</div>"
      ],
      "text/plain": [
       "               Age   RoomService     FoodCourt  ShoppingMall           Spa  \\\n",
       "count  8514.000000   8512.000000   8510.000000   8485.000000   8510.000000   \n",
       "mean     28.827930    224.687617    458.077203    173.729169    311.138778   \n",
       "std      14.489021    666.717663   1611.489240    604.696458   1136.705535   \n",
       "min       0.000000      0.000000      0.000000      0.000000      0.000000   \n",
       "25%      19.000000      0.000000      0.000000      0.000000      0.000000   \n",
       "50%      27.000000      0.000000      0.000000      0.000000      0.000000   \n",
       "75%      38.000000     47.000000     76.000000     27.000000     59.000000   \n",
       "max      79.000000  14327.000000  29813.000000  23492.000000  22408.000000   \n",
       "\n",
       "             VRDeck  \n",
       "count   8505.000000  \n",
       "mean     304.854791  \n",
       "std     1145.717189  \n",
       "min        0.000000  \n",
       "25%        0.000000  \n",
       "50%        0.000000  \n",
       "75%       46.000000  \n",
       "max    24133.000000  "
      ]
     },
     "execution_count": 6,
     "metadata": {},
     "output_type": "execute_result"
    }
   ],
   "source": [
    "train.describe()"
   ]
  },
  {
   "cell_type": "code",
   "execution_count": 7,
   "id": "40cf29ba",
   "metadata": {
    "execution": {
     "iopub.execute_input": "2025-02-24T10:40:30.746055Z",
     "iopub.status.busy": "2025-02-24T10:40:30.745658Z",
     "iopub.status.idle": "2025-02-24T10:40:30.758292Z",
     "shell.execute_reply": "2025-02-24T10:40:30.756953Z"
    },
    "papermill": {
     "duration": 0.026296,
     "end_time": "2025-02-24T10:40:30.760736",
     "exception": false,
     "start_time": "2025-02-24T10:40:30.734440",
     "status": "completed"
    },
    "tags": []
   },
   "outputs": [
    {
     "data": {
      "text/plain": [
       "PassengerId     0.000000\n",
       "HomePlanet      2.312205\n",
       "CryoSleep       2.496261\n",
       "Cabin           2.289198\n",
       "Destination     2.093639\n",
       "Age             2.059128\n",
       "VIP             2.335212\n",
       "RoomService     2.082135\n",
       "FoodCourt       2.105142\n",
       "ShoppingMall    2.392730\n",
       "Spa             2.105142\n",
       "VRDeck          2.162660\n",
       "Name            2.300702\n",
       "Transported     0.000000\n",
       "dtype: float64"
      ]
     },
     "execution_count": 7,
     "metadata": {},
     "output_type": "execute_result"
    }
   ],
   "source": [
    "train.isnull().sum()/len(train)*100"
   ]
  },
  {
   "cell_type": "code",
   "execution_count": 8,
   "id": "b113f8bc",
   "metadata": {
    "execution": {
     "iopub.execute_input": "2025-02-24T10:40:30.788517Z",
     "iopub.status.busy": "2025-02-24T10:40:30.788174Z",
     "iopub.status.idle": "2025-02-24T10:40:30.799596Z",
     "shell.execute_reply": "2025-02-24T10:40:30.798270Z"
    },
    "papermill": {
     "duration": 0.025214,
     "end_time": "2025-02-24T10:40:30.801603",
     "exception": false,
     "start_time": "2025-02-24T10:40:30.776389",
     "status": "completed"
    },
    "tags": []
   },
   "outputs": [
    {
     "data": {
      "text/plain": [
       "PassengerId     0.000000\n",
       "HomePlanet      2.034136\n",
       "CryoSleep       2.174421\n",
       "Cabin           2.338087\n",
       "Destination     2.151040\n",
       "Age             2.127660\n",
       "VIP             2.174421\n",
       "RoomService     1.917232\n",
       "FoodCourt       2.478373\n",
       "ShoppingMall    2.291326\n",
       "Spa             2.361468\n",
       "VRDeck          1.870470\n",
       "Name            2.197802\n",
       "dtype: float64"
      ]
     },
     "execution_count": 8,
     "metadata": {},
     "output_type": "execute_result"
    }
   ],
   "source": [
    "test.isnull().sum()/len(test)*100"
   ]
  },
  {
   "cell_type": "markdown",
   "id": "4c0e7b8b",
   "metadata": {
    "papermill": {
     "duration": 0.011508,
     "end_time": "2025-02-24T10:40:30.823880",
     "exception": false,
     "start_time": "2025-02-24T10:40:30.812372",
     "status": "completed"
    },
    "tags": []
   },
   "source": [
    "Almost every column have some missing values, it is very less in percentage but we have to deal with it."
   ]
  },
  {
   "cell_type": "code",
   "execution_count": 9,
   "id": "3fbfb299",
   "metadata": {
    "execution": {
     "iopub.execute_input": "2025-02-24T10:40:30.846441Z",
     "iopub.status.busy": "2025-02-24T10:40:30.846073Z",
     "iopub.status.idle": "2025-02-24T10:40:31.129175Z",
     "shell.execute_reply": "2025-02-24T10:40:31.128013Z"
    },
    "papermill": {
     "duration": 0.296186,
     "end_time": "2025-02-24T10:40:31.131020",
     "exception": false,
     "start_time": "2025-02-24T10:40:30.834834",
     "status": "completed"
    },
    "tags": []
   },
   "outputs": [
    {
     "data": {
      "text/plain": [
       "<Axes: ylabel='count'>"
      ]
     },
     "execution_count": 9,
     "metadata": {},
     "output_type": "execute_result"
    },
    {
     "data": {
      "image/png": "[encoded data removed]",
      "text/plain": [
       "<Figure size 640x480 with 1 Axes>"
      ]
     },
     "metadata": {},
     "output_type": "display_data"
    }
   ],
   "source": [
    "train['Transported'].value_counts().plot(kind='pie',autopct=\"%0.1f%%\")"
   ]
  },
  {
   "cell_type": "markdown",
   "id": "26f298eb",
   "metadata": {
    "papermill": {
     "duration": 0.010971,
     "end_time": "2025-02-24T10:40:31.152977",
     "exception": false,
     "start_time": "2025-02-24T10:40:31.142006",
     "status": "completed"
    },
    "tags": []
   },
   "source": [
    "we have fairly balanced target column so we does not have to consider under or oversampling techinque"
   ]
  },
  {
   "cell_type": "code",
   "execution_count": 10,
   "id": "84189fe3",
   "metadata": {
    "execution": {
     "iopub.execute_input": "2025-02-24T10:40:31.176599Z",
     "iopub.status.busy": "2025-02-24T10:40:31.176131Z",
     "iopub.status.idle": "2025-02-24T10:40:31.198644Z",
     "shell.execute_reply": "2025-02-24T10:40:31.197473Z"
    },
    "papermill": {
     "duration": 0.036704,
     "end_time": "2025-02-24T10:40:31.200422",
     "exception": false,
     "start_time": "2025-02-24T10:40:31.163718",
     "status": "completed"
    },
    "tags": []
   },
   "outputs": [
    {
     "name": "stdout",
     "output_type": "stream",
     "text": [
      "dupictes in train data-> 0\n",
      "dupictes in test data-> 0\n"
     ]
    }
   ],
   "source": [
    "print('dupictes in train data->',train.duplicated().sum())\n",
    "print('dupictes in test data->',test.duplicated().sum())"
   ]
  },
  {
   "cell_type": "code",
   "execution_count": 11,
   "id": "027dbfa6",
   "metadata": {
    "execution": {
     "iopub.execute_input": "2025-02-24T10:40:31.223741Z",
     "iopub.status.busy": "2025-02-24T10:40:31.223313Z",
     "iopub.status.idle": "2025-02-24T10:40:32.057723Z",
     "shell.execute_reply": "2025-02-24T10:40:32.056478Z"
    },
    "papermill": {
     "duration": 0.84827,
     "end_time": "2025-02-24T10:40:32.059753",
     "exception": false,
     "start_time": "2025-02-24T10:40:31.211483",
     "status": "completed"
    },
    "tags": []
   },
   "outputs": [
    {
     "data": {
      "text/plain": [
       "Text(0.5, 0, 'Age (years)')"
      ]
     },
     "execution_count": 11,
     "metadata": {},
     "output_type": "execute_result"
    },
    {
     "data": {
      "image/png": "[encoded data removed]",
      "text/plain": [
       "<Figure size 1000x600 with 1 Axes>"
      ]
     },
     "metadata": {},
     "output_type": "display_data"
    }
   ],
   "source": [
    "# Figure size\n",
    "plt.figure(figsize=(10,6))\n",
    "\n",
    "# Histogram\n",
    "sns.histplot(data=train, x='Age', hue='Transported', binwidth=2, kde=True)\n",
    "\n",
    "# Aesthetics\n",
    "plt.title('Age distribution')\n",
    "plt.xlabel('Age (years)')"
   ]
  },
  {
   "cell_type": "markdown",
   "id": "98951262",
   "metadata": {
    "papermill": {
     "duration": 0.012189,
     "end_time": "2025-02-24T10:40:32.084512",
     "exception": false,
     "start_time": "2025-02-24T10:40:32.072323",
     "status": "completed"
    },
    "tags": []
   },
   "source": [
    "*Notes:*\n",
    "* 0-18 year olds were **more** likely to be transported than not.\n",
    "* 18-26 year olds were **less** likely to be transported than not.\n",
    "* Over 26 year olds were about **equally** likely to be transported than not.\n",
    "\n",
    "*Insight:*\n",
    "* Create a new feature that indicates whether the passanger is a child, adolescent or adult."
   ]
  },
  {
   "cell_type": "code",
   "execution_count": 12,
   "id": "304fb454",
   "metadata": {
    "execution": {
     "iopub.execute_input": "2025-02-24T10:40:32.110728Z",
     "iopub.status.busy": "2025-02-24T10:40:32.110185Z",
     "iopub.status.idle": "2025-02-24T10:40:32.223332Z",
     "shell.execute_reply": "2025-02-24T10:40:32.222113Z"
    },
    "papermill": {
     "duration": 0.128336,
     "end_time": "2025-02-24T10:40:32.225177",
     "exception": false,
     "start_time": "2025-02-24T10:40:32.096841",
     "status": "completed"
    },
    "tags": []
   },
   "outputs": [
    {
     "data": {
      "text/plain": [
       "<Axes: ylabel='count'>"
      ]
     },
     "execution_count": 12,
     "metadata": {},
     "output_type": "execute_result"
    },
    {
     "data": {
      "image/png": "[encoded data removed]",
      "text/plain": [
       "<Figure size 640x480 with 1 Axes>"
      ]
     },
     "metadata": {},
     "output_type": "display_data"
    }
   ],
   "source": [
    "train['HomePlanet'].value_counts().plot(kind='pie',autopct=\"%0.1f%%\")"
   ]
  },
  {
   "cell_type": "code",
   "execution_count": 13,
   "id": "03cdac1d",
   "metadata": {
    "execution": {
     "iopub.execute_input": "2025-02-24T10:40:32.252875Z",
     "iopub.status.busy": "2025-02-24T10:40:32.252419Z",
     "iopub.status.idle": "2025-02-24T10:40:32.475423Z",
     "shell.execute_reply": "2025-02-24T10:40:32.474090Z"
    },
    "papermill": {
     "duration": 0.239062,
     "end_time": "2025-02-24T10:40:32.477485",
     "exception": false,
     "start_time": "2025-02-24T10:40:32.238423",
     "status": "completed"
    },
    "tags": []
   },
   "outputs": [
    {
     "data": {
      "text/plain": [
       "<Axes: xlabel='HomePlanet', ylabel='count'>"
      ]
     },
     "execution_count": 13,
     "metadata": {},
     "output_type": "execute_result"
    },
    {
     "data": {
      "image/png": "[encoded data removed]",
      "text/plain": [
       "<Figure size 640x480 with 1 Axes>"
      ]
     },
     "metadata": {},
     "output_type": "display_data"
    }
   ],
   "source": [
    "sns.countplot(data=train,x='HomePlanet',hue=\"Transported\")"
   ]
  },
  {
   "cell_type": "code",
   "execution_count": 14,
   "id": "734fe0cd",
   "metadata": {
    "execution": {
     "iopub.execute_input": "2025-02-24T10:40:32.507099Z",
     "iopub.status.busy": "2025-02-24T10:40:32.506691Z",
     "iopub.status.idle": "2025-02-24T10:40:32.612884Z",
     "shell.execute_reply": "2025-02-24T10:40:32.611422Z"
    },
    "papermill": {
     "duration": 0.123389,
     "end_time": "2025-02-24T10:40:32.614966",
     "exception": false,
     "start_time": "2025-02-24T10:40:32.491577",
     "status": "completed"
    },
    "tags": []
   },
   "outputs": [
    {
     "data": {
      "text/plain": [
       "<Axes: ylabel='count'>"
      ]
     },
     "execution_count": 14,
     "metadata": {},
     "output_type": "execute_result"
    },
    {
     "data": {
      "image/png": "[encoded data removed]",
      "text/plain": [
       "<Figure size 640x480 with 1 Axes>"
      ]
     },
     "metadata": {},
     "output_type": "display_data"
    }
   ],
   "source": [
    "train['CryoSleep'].value_counts().plot(kind='pie',autopct=\"%0.1f%%\")"
   ]
  },
  {
   "cell_type": "code",
   "execution_count": 15,
   "id": "2c2f67a9",
   "metadata": {
    "execution": {
     "iopub.execute_input": "2025-02-24T10:40:32.645509Z",
     "iopub.status.busy": "2025-02-24T10:40:32.645089Z",
     "iopub.status.idle": "2025-02-24T10:40:32.653192Z",
     "shell.execute_reply": "2025-02-24T10:40:32.652170Z"
    },
    "papermill": {
     "duration": 0.025407,
     "end_time": "2025-02-24T10:40:32.655292",
     "exception": false,
     "start_time": "2025-02-24T10:40:32.629885",
     "status": "completed"
    },
    "tags": []
   },
   "outputs": [
    {
     "data": {
      "text/plain": [
       "Destination\n",
       "TRAPPIST-1e      5915\n",
       "55 Cancri e      1800\n",
       "PSO J318.5-22     796\n",
       "Name: count, dtype: int64"
      ]
     },
     "execution_count": 15,
     "metadata": {},
     "output_type": "execute_result"
    }
   ],
   "source": [
    "train['Destination'].value_counts()"
   ]
  },
  {
   "cell_type": "code",
   "execution_count": 16,
   "id": "16751080",
   "metadata": {
    "execution": {
     "iopub.execute_input": "2025-02-24T10:40:32.687465Z",
     "iopub.status.busy": "2025-02-24T10:40:32.687020Z",
     "iopub.status.idle": "2025-02-24T10:40:32.968696Z",
     "shell.execute_reply": "2025-02-24T10:40:32.967475Z"
    },
    "papermill": {
     "duration": 0.299723,
     "end_time": "2025-02-24T10:40:32.970573",
     "exception": false,
     "start_time": "2025-02-24T10:40:32.670850",
     "status": "completed"
    },
    "tags": []
   },
   "outputs": [
    {
     "data": {
      "image/png": "[encoded data removed]",
      "text/plain": [
       "<Figure size 640x480 with 1 Axes>"
      ]
     },
     "metadata": {},
     "output_type": "display_data"
    }
   ],
   "source": [
    "sns.countplot(data=train, x='Destination', hue='Transported')\n",
    "plt.title('Transported People by Destination')\n",
    "plt.show()\n"
   ]
  },
  {
   "cell_type": "code",
   "execution_count": 17,
   "id": "246e417c",
   "metadata": {
    "execution": {
     "iopub.execute_input": "2025-02-24T10:40:33.002686Z",
     "iopub.status.busy": "2025-02-24T10:40:33.002173Z",
     "iopub.status.idle": "2025-02-24T10:40:33.113296Z",
     "shell.execute_reply": "2025-02-24T10:40:33.112107Z"
    },
    "papermill": {
     "duration": 0.129087,
     "end_time": "2025-02-24T10:40:33.115050",
     "exception": false,
     "start_time": "2025-02-24T10:40:32.985963",
     "status": "completed"
    },
    "tags": []
   },
   "outputs": [
    {
     "data": {
      "text/plain": [
       "<Axes: ylabel='count'>"
      ]
     },
     "execution_count": 17,
     "metadata": {},
     "output_type": "execute_result"
    },
    {
     "data": {
      "image/png": "[encoded data removed]",
      "text/plain": [
       "<Figure size 640x480 with 1 Axes>"
      ]
     },
     "metadata": {},
     "output_type": "display_data"
    }
   ],
   "source": [
    "train['VIP'].value_counts().plot(kind='pie',autopct=\"%0.1f%%\")"
   ]
  },
  {
   "cell_type": "code",
   "execution_count": 18,
   "id": "56e8b637",
   "metadata": {
    "execution": {
     "iopub.execute_input": "2025-02-24T10:40:33.148463Z",
     "iopub.status.busy": "2025-02-24T10:40:33.148048Z",
     "iopub.status.idle": "2025-02-24T10:40:33.370261Z",
     "shell.execute_reply": "2025-02-24T10:40:33.369058Z"
    },
    "papermill": {
     "duration": 0.240658,
     "end_time": "2025-02-24T10:40:33.371996",
     "exception": false,
     "start_time": "2025-02-24T10:40:33.131338",
     "status": "completed"
    },
    "tags": []
   },
   "outputs": [
    {
     "data": {
      "image/png": "[encoded data removed]",
      "text/plain": [
       "<Figure size 640x480 with 1 Axes>"
      ]
     },
     "metadata": {},
     "output_type": "display_data"
    }
   ],
   "source": [
    "sns.countplot(data=train, x='VIP', hue='Transported')\n",
    "plt.title('Transported People')\n",
    "plt.show()\n"
   ]
  },
  {
   "cell_type": "code",
   "execution_count": 19,
   "id": "0bf79bd6",
   "metadata": {
    "execution": {
     "iopub.execute_input": "2025-02-24T10:40:33.406626Z",
     "iopub.status.busy": "2025-02-24T10:40:33.406219Z",
     "iopub.status.idle": "2025-02-24T10:40:33.412836Z",
     "shell.execute_reply": "2025-02-24T10:40:33.411706Z"
    },
    "papermill": {
     "duration": 0.026319,
     "end_time": "2025-02-24T10:40:33.414705",
     "exception": false,
     "start_time": "2025-02-24T10:40:33.388386",
     "status": "completed"
    },
    "tags": []
   },
   "outputs": [
    {
     "data": {
      "text/plain": [
       "Index(['PassengerId', 'HomePlanet', 'CryoSleep', 'Cabin', 'Destination', 'Age',\n",
       "       'VIP', 'RoomService', 'FoodCourt', 'ShoppingMall', 'Spa', 'VRDeck',\n",
       "       'Name', 'Transported'],\n",
       "      dtype='object')"
      ]
     },
     "execution_count": 19,
     "metadata": {},
     "output_type": "execute_result"
    }
   ],
   "source": [
    "train.columns"
   ]
  },
  {
   "cell_type": "markdown",
   "id": "450dcd39",
   "metadata": {
    "papermill": {
     "duration": 0.016192,
     "end_time": "2025-02-24T10:40:33.447271",
     "exception": false,
     "start_time": "2025-02-24T10:40:33.431079",
     "status": "completed"
    },
    "tags": []
   },
   "source": [
    "## Data Preprocessing"
   ]
  },
  {
   "cell_type": "code",
   "execution_count": 20,
   "id": "ea734173",
   "metadata": {
    "execution": {
     "iopub.execute_input": "2025-02-24T10:40:33.481917Z",
     "iopub.status.busy": "2025-02-24T10:40:33.481488Z",
     "iopub.status.idle": "2025-02-24T10:40:34.093142Z",
     "shell.execute_reply": "2025-02-24T10:40:34.091946Z"
    },
    "papermill": {
     "duration": 0.631293,
     "end_time": "2025-02-24T10:40:34.095433",
     "exception": false,
     "start_time": "2025-02-24T10:40:33.464140",
     "status": "completed"
    },
    "tags": []
   },
   "outputs": [
    {
     "data": {
      "image/png": "[encoded data removed]",
      "text/plain": [
       "<Figure size 2500x1000 with 2 Axes>"
      ]
     },
     "metadata": {},
     "output_type": "display_data"
    }
   ],
   "source": [
    "import missingno as msno\n",
    "\n",
    "msno.matrix(train)\n",
    "plt.show()\n"
   ]
  },
  {
   "cell_type": "code",
   "execution_count": 21,
   "id": "4e927ea2",
   "metadata": {
    "execution": {
     "iopub.execute_input": "2025-02-24T10:40:34.135337Z",
     "iopub.status.busy": "2025-02-24T10:40:34.134979Z",
     "iopub.status.idle": "2025-02-24T10:40:34.156925Z",
     "shell.execute_reply": "2025-02-24T10:40:34.155734Z"
    },
    "papermill": {
     "duration": 0.043938,
     "end_time": "2025-02-24T10:40:34.159126",
     "exception": false,
     "start_time": "2025-02-24T10:40:34.115188",
     "status": "completed"
    },
    "tags": []
   },
   "outputs": [
    {
     "data": {
      "text/html": [
       "<div>\n",
       "<style scoped>\n",
       "    .dataframe tbody tr th:only-of-type {\n",
       "        vertical-align: middle;\n",
       "    }\n",
       "\n",
       "    .dataframe tbody tr th {\n",
       "        vertical-align: top;\n",
       "    }\n",
       "\n",
       "    .dataframe thead th {\n",
       "        text-align: right;\n",
       "    }\n",
       "</style>\n",
       "<table border=\"1\" class=\"dataframe\">\n",
       "  <thead>\n",
       "    <tr style=\"text-align: right;\">\n",
       "      <th></th>\n",
       "      <th>PassengerId</th>\n",
       "      <th>HomePlanet</th>\n",
       "      <th>CryoSleep</th>\n",
       "      <th>Cabin</th>\n",
       "      <th>Destination</th>\n",
       "      <th>Age</th>\n",
       "      <th>VIP</th>\n",
       "      <th>RoomService</th>\n",
       "      <th>FoodCourt</th>\n",
       "      <th>ShoppingMall</th>\n",
       "      <th>Spa</th>\n",
       "      <th>VRDeck</th>\n",
       "      <th>Name</th>\n",
       "      <th>Transported</th>\n",
       "    </tr>\n",
       "  </thead>\n",
       "  <tbody>\n",
       "    <tr>\n",
       "      <th>8080</th>\n",
       "      <td>8638_01</td>\n",
       "      <td>Earth</td>\n",
       "      <td>True</td>\n",
       "      <td>G/1402/P</td>\n",
       "      <td>TRAPPIST-1e</td>\n",
       "      <td>22.0</td>\n",
       "      <td>False</td>\n",
       "      <td>0.0</td>\n",
       "      <td>0.0</td>\n",
       "      <td>0.0</td>\n",
       "      <td>0.0</td>\n",
       "      <td>0.0</td>\n",
       "      <td>Therta Holliams</td>\n",
       "      <td>False</td>\n",
       "    </tr>\n",
       "    <tr>\n",
       "      <th>7816</th>\n",
       "      <td>8342_01</td>\n",
       "      <td>Europa</td>\n",
       "      <td>False</td>\n",
       "      <td>E/548/S</td>\n",
       "      <td>TRAPPIST-1e</td>\n",
       "      <td>48.0</td>\n",
       "      <td>False</td>\n",
       "      <td>0.0</td>\n",
       "      <td>NaN</td>\n",
       "      <td>0.0</td>\n",
       "      <td>408.0</td>\n",
       "      <td>293.0</td>\n",
       "      <td>Tach Sprender</td>\n",
       "      <td>True</td>\n",
       "    </tr>\n",
       "    <tr>\n",
       "      <th>3432</th>\n",
       "      <td>3702_01</td>\n",
       "      <td>Mars</td>\n",
       "      <td>True</td>\n",
       "      <td>E/220/P</td>\n",
       "      <td>TRAPPIST-1e</td>\n",
       "      <td>32.0</td>\n",
       "      <td>False</td>\n",
       "      <td>0.0</td>\n",
       "      <td>0.0</td>\n",
       "      <td>0.0</td>\n",
       "      <td>0.0</td>\n",
       "      <td>0.0</td>\n",
       "      <td>Tors Ramad</td>\n",
       "      <td>False</td>\n",
       "    </tr>\n",
       "    <tr>\n",
       "      <th>828</th>\n",
       "      <td>0883_01</td>\n",
       "      <td>Earth</td>\n",
       "      <td>False</td>\n",
       "      <td>G/127/P</td>\n",
       "      <td>TRAPPIST-1e</td>\n",
       "      <td>13.0</td>\n",
       "      <td>False</td>\n",
       "      <td>875.0</td>\n",
       "      <td>5.0</td>\n",
       "      <td>10.0</td>\n",
       "      <td>18.0</td>\n",
       "      <td>0.0</td>\n",
       "      <td>Elson Malliamsey</td>\n",
       "      <td>False</td>\n",
       "    </tr>\n",
       "    <tr>\n",
       "      <th>5847</th>\n",
       "      <td>6191_01</td>\n",
       "      <td>Europa</td>\n",
       "      <td>True</td>\n",
       "      <td>A/59/P</td>\n",
       "      <td>TRAPPIST-1e</td>\n",
       "      <td>51.0</td>\n",
       "      <td>False</td>\n",
       "      <td>0.0</td>\n",
       "      <td>0.0</td>\n",
       "      <td>0.0</td>\n",
       "      <td>0.0</td>\n",
       "      <td>0.0</td>\n",
       "      <td>Alraida Ametic</td>\n",
       "      <td>True</td>\n",
       "    </tr>\n",
       "  </tbody>\n",
       "</table>\n",
       "</div>"
      ],
      "text/plain": [
       "     PassengerId HomePlanet CryoSleep     Cabin  Destination   Age    VIP  \\\n",
       "8080     8638_01      Earth      True  G/1402/P  TRAPPIST-1e  22.0  False   \n",
       "7816     8342_01     Europa     False   E/548/S  TRAPPIST-1e  48.0  False   \n",
       "3432     3702_01       Mars      True   E/220/P  TRAPPIST-1e  32.0  False   \n",
       "828      0883_01      Earth     False   G/127/P  TRAPPIST-1e  13.0  False   \n",
       "5847     6191_01     Europa      True    A/59/P  TRAPPIST-1e  51.0  False   \n",
       "\n",
       "      RoomService  FoodCourt  ShoppingMall    Spa  VRDeck              Name  \\\n",
       "8080          0.0        0.0           0.0    0.0     0.0   Therta Holliams   \n",
       "7816          0.0        NaN           0.0  408.0   293.0     Tach Sprender   \n",
       "3432          0.0        0.0           0.0    0.0     0.0        Tors Ramad   \n",
       "828         875.0        5.0          10.0   18.0     0.0  Elson Malliamsey   \n",
       "5847          0.0        0.0           0.0    0.0     0.0    Alraida Ametic   \n",
       "\n",
       "      Transported  \n",
       "8080        False  \n",
       "7816         True  \n",
       "3432        False  \n",
       "828         False  \n",
       "5847         True  "
      ]
     },
     "execution_count": 21,
     "metadata": {},
     "output_type": "execute_result"
    }
   ],
   "source": [
    "train.sample(5)"
   ]
  },
  {
   "cell_type": "code",
   "execution_count": 22,
   "id": "53ed6937",
   "metadata": {
    "execution": {
     "iopub.execute_input": "2025-02-24T10:40:34.200610Z",
     "iopub.status.busy": "2025-02-24T10:40:34.200194Z",
     "iopub.status.idle": "2025-02-24T10:40:34.231885Z",
     "shell.execute_reply": "2025-02-24T10:40:34.230768Z"
    },
    "papermill": {
     "duration": 0.055513,
     "end_time": "2025-02-24T10:40:34.233845",
     "exception": false,
     "start_time": "2025-02-24T10:40:34.178332",
     "status": "completed"
    },
    "tags": []
   },
   "outputs": [],
   "source": [
    "\n",
    "train['Cabin_number']= train['Cabin'].str.split('/').str[1]\n",
    "train['Cabin_deck']= train['Cabin'].str.split('/').str[0]\n",
    "train['Cabin_side']= train['Cabin'].str.split('/').str[2]\n"
   ]
  },
  {
   "cell_type": "code",
   "execution_count": 23,
   "id": "0d725fae",
   "metadata": {
    "execution": {
     "iopub.execute_input": "2025-02-24T10:40:34.273298Z",
     "iopub.status.busy": "2025-02-24T10:40:34.272943Z",
     "iopub.status.idle": "2025-02-24T10:40:34.291185Z",
     "shell.execute_reply": "2025-02-24T10:40:34.290098Z"
    },
    "papermill": {
     "duration": 0.040266,
     "end_time": "2025-02-24T10:40:34.293261",
     "exception": false,
     "start_time": "2025-02-24T10:40:34.252995",
     "status": "completed"
    },
    "tags": []
   },
   "outputs": [],
   "source": [
    "\n",
    "test['Cabin_number']= test['Cabin'].str.split('/').str[1]\n",
    "test['Cabin_deck']= test['Cabin'].str.split('/').str[0]\n",
    "test['Cabin_side']= test['Cabin'].str.split('/').str[2]"
   ]
  },
  {
   "cell_type": "code",
   "execution_count": 24,
   "id": "6782eedf",
   "metadata": {
    "execution": {
     "iopub.execute_input": "2025-02-24T10:40:34.331629Z",
     "iopub.status.busy": "2025-02-24T10:40:34.331206Z",
     "iopub.status.idle": "2025-02-24T10:40:34.340507Z",
     "shell.execute_reply": "2025-02-24T10:40:34.339496Z"
    },
    "papermill": {
     "duration": 0.030664,
     "end_time": "2025-02-24T10:40:34.342413",
     "exception": false,
     "start_time": "2025-02-24T10:40:34.311749",
     "status": "completed"
    },
    "tags": []
   },
   "outputs": [],
   "source": [
    "train['expenditure'] = train[['RoomService', 'FoodCourt', 'ShoppingMall', 'Spa', 'VRDeck']].sum(axis=1)\n"
   ]
  },
  {
   "cell_type": "code",
   "execution_count": 25,
   "id": "4332a43c",
   "metadata": {
    "execution": {
     "iopub.execute_input": "2025-02-24T10:40:34.381723Z",
     "iopub.status.busy": "2025-02-24T10:40:34.381301Z",
     "iopub.status.idle": "2025-02-24T10:40:34.389783Z",
     "shell.execute_reply": "2025-02-24T10:40:34.388658Z"
    },
    "papermill": {
     "duration": 0.030464,
     "end_time": "2025-02-24T10:40:34.391865",
     "exception": false,
     "start_time": "2025-02-24T10:40:34.361401",
     "status": "completed"
    },
    "tags": []
   },
   "outputs": [],
   "source": [
    "test['expenditure'] = test[['RoomService', 'FoodCourt', 'ShoppingMall', 'Spa', 'VRDeck']].sum(axis=1)"
   ]
  },
  {
   "cell_type": "code",
   "execution_count": 26,
   "id": "ef5117a8",
   "metadata": {
    "execution": {
     "iopub.execute_input": "2025-02-24T10:40:34.431018Z",
     "iopub.status.busy": "2025-02-24T10:40:34.430608Z",
     "iopub.status.idle": "2025-02-24T10:40:34.439615Z",
     "shell.execute_reply": "2025-02-24T10:40:34.438480Z"
    },
    "papermill": {
     "duration": 0.03136,
     "end_time": "2025-02-24T10:40:34.441741",
     "exception": false,
     "start_time": "2025-02-24T10:40:34.410381",
     "status": "completed"
    },
    "tags": []
   },
   "outputs": [],
   "source": [
    "train.drop(columns=['Cabin','Name','PassengerId'],axis=1,inplace=True)"
   ]
  },
  {
   "cell_type": "code",
   "execution_count": 27,
   "id": "5f15af64",
   "metadata": {
    "execution": {
     "iopub.execute_input": "2025-02-24T10:40:34.480667Z",
     "iopub.status.busy": "2025-02-24T10:40:34.480243Z",
     "iopub.status.idle": "2025-02-24T10:40:34.486677Z",
     "shell.execute_reply": "2025-02-24T10:40:34.485498Z"
    },
    "papermill": {
     "duration": 0.028241,
     "end_time": "2025-02-24T10:40:34.488567",
     "exception": false,
     "start_time": "2025-02-24T10:40:34.460326",
     "status": "completed"
    },
    "tags": []
   },
   "outputs": [],
   "source": [
    "test.drop(columns=['Cabin','Name','PassengerId'],axis=1,inplace=True)"
   ]
  },
  {
   "cell_type": "code",
   "execution_count": 28,
   "id": "24466165",
   "metadata": {
    "execution": {
     "iopub.execute_input": "2025-02-24T10:40:34.528515Z",
     "iopub.status.busy": "2025-02-24T10:40:34.528022Z",
     "iopub.status.idle": "2025-02-24T10:40:34.548722Z",
     "shell.execute_reply": "2025-02-24T10:40:34.547578Z"
    },
    "papermill": {
     "duration": 0.043196,
     "end_time": "2025-02-24T10:40:34.550799",
     "exception": false,
     "start_time": "2025-02-24T10:40:34.507603",
     "status": "completed"
    },
    "tags": []
   },
   "outputs": [
    {
     "data": {
      "text/html": [
       "<div>\n",
       "<style scoped>\n",
       "    .dataframe tbody tr th:only-of-type {\n",
       "        vertical-align: middle;\n",
       "    }\n",
       "\n",
       "    .dataframe tbody tr th {\n",
       "        vertical-align: top;\n",
       "    }\n",
       "\n",
       "    .dataframe thead th {\n",
       "        text-align: right;\n",
       "    }\n",
       "</style>\n",
       "<table border=\"1\" class=\"dataframe\">\n",
       "  <thead>\n",
       "    <tr style=\"text-align: right;\">\n",
       "      <th></th>\n",
       "      <th>HomePlanet</th>\n",
       "      <th>CryoSleep</th>\n",
       "      <th>Destination</th>\n",
       "      <th>Age</th>\n",
       "      <th>VIP</th>\n",
       "      <th>RoomService</th>\n",
       "      <th>FoodCourt</th>\n",
       "      <th>ShoppingMall</th>\n",
       "      <th>Spa</th>\n",
       "      <th>VRDeck</th>\n",
       "      <th>Transported</th>\n",
       "      <th>Cabin_number</th>\n",
       "      <th>Cabin_deck</th>\n",
       "      <th>Cabin_side</th>\n",
       "      <th>expenditure</th>\n",
       "    </tr>\n",
       "  </thead>\n",
       "  <tbody>\n",
       "    <tr>\n",
       "      <th>0</th>\n",
       "      <td>Europa</td>\n",
       "      <td>False</td>\n",
       "      <td>TRAPPIST-1e</td>\n",
       "      <td>39.0</td>\n",
       "      <td>False</td>\n",
       "      <td>0.0</td>\n",
       "      <td>0.0</td>\n",
       "      <td>0.0</td>\n",
       "      <td>0.0</td>\n",
       "      <td>0.0</td>\n",
       "      <td>False</td>\n",
       "      <td>0</td>\n",
       "      <td>B</td>\n",
       "      <td>P</td>\n",
       "      <td>0.0</td>\n",
       "    </tr>\n",
       "    <tr>\n",
       "      <th>1</th>\n",
       "      <td>Earth</td>\n",
       "      <td>False</td>\n",
       "      <td>TRAPPIST-1e</td>\n",
       "      <td>24.0</td>\n",
       "      <td>False</td>\n",
       "      <td>109.0</td>\n",
       "      <td>9.0</td>\n",
       "      <td>25.0</td>\n",
       "      <td>549.0</td>\n",
       "      <td>44.0</td>\n",
       "      <td>True</td>\n",
       "      <td>0</td>\n",
       "      <td>F</td>\n",
       "      <td>S</td>\n",
       "      <td>736.0</td>\n",
       "    </tr>\n",
       "    <tr>\n",
       "      <th>2</th>\n",
       "      <td>Europa</td>\n",
       "      <td>False</td>\n",
       "      <td>TRAPPIST-1e</td>\n",
       "      <td>58.0</td>\n",
       "      <td>True</td>\n",
       "      <td>43.0</td>\n",
       "      <td>3576.0</td>\n",
       "      <td>0.0</td>\n",
       "      <td>6715.0</td>\n",
       "      <td>49.0</td>\n",
       "      <td>False</td>\n",
       "      <td>0</td>\n",
       "      <td>A</td>\n",
       "      <td>S</td>\n",
       "      <td>10383.0</td>\n",
       "    </tr>\n",
       "    <tr>\n",
       "      <th>3</th>\n",
       "      <td>Europa</td>\n",
       "      <td>False</td>\n",
       "      <td>TRAPPIST-1e</td>\n",
       "      <td>33.0</td>\n",
       "      <td>False</td>\n",
       "      <td>0.0</td>\n",
       "      <td>1283.0</td>\n",
       "      <td>371.0</td>\n",
       "      <td>3329.0</td>\n",
       "      <td>193.0</td>\n",
       "      <td>False</td>\n",
       "      <td>0</td>\n",
       "      <td>A</td>\n",
       "      <td>S</td>\n",
       "      <td>5176.0</td>\n",
       "    </tr>\n",
       "    <tr>\n",
       "      <th>4</th>\n",
       "      <td>Earth</td>\n",
       "      <td>False</td>\n",
       "      <td>TRAPPIST-1e</td>\n",
       "      <td>16.0</td>\n",
       "      <td>False</td>\n",
       "      <td>303.0</td>\n",
       "      <td>70.0</td>\n",
       "      <td>151.0</td>\n",
       "      <td>565.0</td>\n",
       "      <td>2.0</td>\n",
       "      <td>True</td>\n",
       "      <td>1</td>\n",
       "      <td>F</td>\n",
       "      <td>S</td>\n",
       "      <td>1091.0</td>\n",
       "    </tr>\n",
       "  </tbody>\n",
       "</table>\n",
       "</div>"
      ],
      "text/plain": [
       "  HomePlanet CryoSleep  Destination   Age    VIP  RoomService  FoodCourt  \\\n",
       "0     Europa     False  TRAPPIST-1e  39.0  False          0.0        0.0   \n",
       "1      Earth     False  TRAPPIST-1e  24.0  False        109.0        9.0   \n",
       "2     Europa     False  TRAPPIST-1e  58.0   True         43.0     3576.0   \n",
       "3     Europa     False  TRAPPIST-1e  33.0  False          0.0     1283.0   \n",
       "4      Earth     False  TRAPPIST-1e  16.0  False        303.0       70.0   \n",
       "\n",
       "   ShoppingMall     Spa  VRDeck  Transported Cabin_number Cabin_deck  \\\n",
       "0           0.0     0.0     0.0        False            0          B   \n",
       "1          25.0   549.0    44.0         True            0          F   \n",
       "2           0.0  6715.0    49.0        False            0          A   \n",
       "3         371.0  3329.0   193.0        False            0          A   \n",
       "4         151.0   565.0     2.0         True            1          F   \n",
       "\n",
       "  Cabin_side  expenditure  \n",
       "0          P          0.0  \n",
       "1          S        736.0  \n",
       "2          S      10383.0  \n",
       "3          S       5176.0  \n",
       "4          S       1091.0  "
      ]
     },
     "execution_count": 28,
     "metadata": {},
     "output_type": "execute_result"
    }
   ],
   "source": [
    "train.head()"
   ]
  },
  {
   "cell_type": "code",
   "execution_count": 29,
   "id": "a3893486",
   "metadata": {
    "execution": {
     "iopub.execute_input": "2025-02-24T10:40:34.590159Z",
     "iopub.status.busy": "2025-02-24T10:40:34.589764Z",
     "iopub.status.idle": "2025-02-24T10:40:34.597924Z",
     "shell.execute_reply": "2025-02-24T10:40:34.596446Z"
    },
    "papermill": {
     "duration": 0.03006,
     "end_time": "2025-02-24T10:40:34.600100",
     "exception": false,
     "start_time": "2025-02-24T10:40:34.570040",
     "status": "completed"
    },
    "tags": []
   },
   "outputs": [],
   "source": [
    "train['Cabin_number']=train['Cabin_number'].astype('float64')\n",
    "test['Cabin_number']=test['Cabin_number'].astype('float64')"
   ]
  },
  {
   "cell_type": "code",
   "execution_count": 30,
   "id": "986d077c",
   "metadata": {
    "execution": {
     "iopub.execute_input": "2025-02-24T10:40:34.639748Z",
     "iopub.status.busy": "2025-02-24T10:40:34.639317Z",
     "iopub.status.idle": "2025-02-24T10:40:34.654157Z",
     "shell.execute_reply": "2025-02-24T10:40:34.652898Z"
    },
    "papermill": {
     "duration": 0.036627,
     "end_time": "2025-02-24T10:40:34.656129",
     "exception": false,
     "start_time": "2025-02-24T10:40:34.619502",
     "status": "completed"
    },
    "tags": []
   },
   "outputs": [
    {
     "name": "stdout",
     "output_type": "stream",
     "text": [
      "<class 'pandas.core.frame.DataFrame'>\n",
      "RangeIndex: 8693 entries, 0 to 8692\n",
      "Data columns (total 15 columns):\n",
      " #   Column        Non-Null Count  Dtype  \n",
      "---  ------        --------------  -----  \n",
      " 0   HomePlanet    8492 non-null   object \n",
      " 1   CryoSleep     8476 non-null   object \n",
      " 2   Destination   8511 non-null   object \n",
      " 3   Age           8514 non-null   float64\n",
      " 4   VIP           8490 non-null   object \n",
      " 5   RoomService   8512 non-null   float64\n",
      " 6   FoodCourt     8510 non-null   float64\n",
      " 7   ShoppingMall  8485 non-null   float64\n",
      " 8   Spa           8510 non-null   float64\n",
      " 9   VRDeck        8505 non-null   float64\n",
      " 10  Transported   8693 non-null   bool   \n",
      " 11  Cabin_number  8494 non-null   float64\n",
      " 12  Cabin_deck    8494 non-null   object \n",
      " 13  Cabin_side    8494 non-null   object \n",
      " 14  expenditure   8693 non-null   float64\n",
      "dtypes: bool(1), float64(8), object(6)\n",
      "memory usage: 959.4+ KB\n"
     ]
    }
   ],
   "source": [
    "train.info()"
   ]
  },
  {
   "cell_type": "code",
   "execution_count": 31,
   "id": "6020d4d7",
   "metadata": {
    "execution": {
     "iopub.execute_input": "2025-02-24T10:40:34.695511Z",
     "iopub.status.busy": "2025-02-24T10:40:34.695156Z",
     "iopub.status.idle": "2025-02-24T10:40:35.757595Z",
     "shell.execute_reply": "2025-02-24T10:40:35.755984Z"
    },
    "papermill": {
     "duration": 1.084627,
     "end_time": "2025-02-24T10:40:35.759769",
     "exception": false,
     "start_time": "2025-02-24T10:40:34.675142",
     "status": "completed"
    },
    "tags": []
   },
   "outputs": [],
   "source": [
    "from sklearn.impute import KNNImputer\n",
    "\n",
    "# Select only numerical columns\n",
    "num_cols = train.select_dtypes(include=['float64']).columns\n",
    "\n",
    "# Initialize KNN Imputer\n",
    "knn_imputer = KNNImputer(n_neighbors=7)  # You can tune 'n_neighbors' for better results\n",
    "\n",
    "# Apply KNN imputation\n",
    "train[num_cols] = knn_imputer.fit_transform(train[num_cols])\n",
    "test[num_cols] = knn_imputer.transform(test[num_cols])  # Use transform on test set\n"
   ]
  },
  {
   "cell_type": "code",
   "execution_count": 32,
   "id": "ff6fdd21",
   "metadata": {
    "execution": {
     "iopub.execute_input": "2025-02-24T10:40:35.802269Z",
     "iopub.status.busy": "2025-02-24T10:40:35.801893Z",
     "iopub.status.idle": "2025-02-24T10:40:35.828839Z",
     "shell.execute_reply": "2025-02-24T10:40:35.827759Z"
    },
    "papermill": {
     "duration": 0.051571,
     "end_time": "2025-02-24T10:40:35.831007",
     "exception": false,
     "start_time": "2025-02-24T10:40:35.779436",
     "status": "completed"
    },
    "tags": []
   },
   "outputs": [],
   "source": [
    "for col in test.select_dtypes(include='object'):\n",
    "    test[col].fillna(test[col].mode()[0], inplace=True)\n",
    "\n",
    "for col in train.select_dtypes(include='object'):\n",
    "    train[col].fillna(train[col].mode()[0], inplace=True)"
   ]
  },
  {
   "cell_type": "code",
   "execution_count": 33,
   "id": "1344a4f7",
   "metadata": {
    "execution": {
     "iopub.execute_input": "2025-02-24T10:40:35.871024Z",
     "iopub.status.busy": "2025-02-24T10:40:35.870616Z",
     "iopub.status.idle": "2025-02-24T10:40:35.880924Z",
     "shell.execute_reply": "2025-02-24T10:40:35.879648Z"
    },
    "papermill": {
     "duration": 0.032906,
     "end_time": "2025-02-24T10:40:35.882911",
     "exception": false,
     "start_time": "2025-02-24T10:40:35.850005",
     "status": "completed"
    },
    "tags": []
   },
   "outputs": [
    {
     "data": {
      "text/plain": [
       "HomePlanet      0\n",
       "CryoSleep       0\n",
       "Destination     0\n",
       "Age             0\n",
       "VIP             0\n",
       "RoomService     0\n",
       "FoodCourt       0\n",
       "ShoppingMall    0\n",
       "Spa             0\n",
       "VRDeck          0\n",
       "Cabin_number    0\n",
       "Cabin_deck      0\n",
       "Cabin_side      0\n",
       "expenditure     0\n",
       "dtype: int64"
      ]
     },
     "execution_count": 33,
     "metadata": {},
     "output_type": "execute_result"
    }
   ],
   "source": [
    "test.isnull().sum()"
   ]
  },
  {
   "cell_type": "code",
   "execution_count": 34,
   "id": "5d01ac9e",
   "metadata": {
    "execution": {
     "iopub.execute_input": "2025-02-24T10:40:35.922566Z",
     "iopub.status.busy": "2025-02-24T10:40:35.922165Z",
     "iopub.status.idle": "2025-02-24T10:40:35.932649Z",
     "shell.execute_reply": "2025-02-24T10:40:35.931660Z"
    },
    "papermill": {
     "duration": 0.032855,
     "end_time": "2025-02-24T10:40:35.934663",
     "exception": false,
     "start_time": "2025-02-24T10:40:35.901808",
     "status": "completed"
    },
    "tags": []
   },
   "outputs": [
    {
     "data": {
      "text/plain": [
       "HomePlanet      0\n",
       "CryoSleep       0\n",
       "Destination     0\n",
       "Age             0\n",
       "VIP             0\n",
       "RoomService     0\n",
       "FoodCourt       0\n",
       "ShoppingMall    0\n",
       "Spa             0\n",
       "VRDeck          0\n",
       "Transported     0\n",
       "Cabin_number    0\n",
       "Cabin_deck      0\n",
       "Cabin_side      0\n",
       "expenditure     0\n",
       "dtype: int64"
      ]
     },
     "execution_count": 34,
     "metadata": {},
     "output_type": "execute_result"
    }
   ],
   "source": [
    "train.isnull().sum()"
   ]
  },
  {
   "cell_type": "code",
   "execution_count": 35,
   "id": "40949144",
   "metadata": {
    "execution": {
     "iopub.execute_input": "2025-02-24T10:40:35.974516Z",
     "iopub.status.busy": "2025-02-24T10:40:35.974143Z",
     "iopub.status.idle": "2025-02-24T10:40:35.997366Z",
     "shell.execute_reply": "2025-02-24T10:40:35.996470Z"
    },
    "papermill": {
     "duration": 0.045426,
     "end_time": "2025-02-24T10:40:35.999467",
     "exception": false,
     "start_time": "2025-02-24T10:40:35.954041",
     "status": "completed"
    },
    "tags": []
   },
   "outputs": [],
   "source": [
    "from sklearn.preprocessing import LabelEncoder\n",
    "\n",
    "# Select categorical columns excluding 'Transported'\n",
    "num_cols = train.select_dtypes(include=['object', 'bool']).columns\n",
    "num_cols = num_cols.drop('Transported', errors='ignore')  # Exclude target safely\n",
    "\n",
    "# Apply Label Encoding\n",
    "for col in num_cols:\n",
    "    le = LabelEncoder()\n",
    "    train[col] = le.fit_transform(train[col])  # Fit & transform on train\n",
    "    test[col] = le.transform(test[col])  # Transform test using the same encoder\n"
   ]
  },
  {
   "cell_type": "code",
   "execution_count": 36,
   "id": "5613e92e",
   "metadata": {
    "execution": {
     "iopub.execute_input": "2025-02-24T10:40:36.039153Z",
     "iopub.status.busy": "2025-02-24T10:40:36.038801Z",
     "iopub.status.idle": "2025-02-24T10:40:36.045636Z",
     "shell.execute_reply": "2025-02-24T10:40:36.044404Z"
    },
    "papermill": {
     "duration": 0.028728,
     "end_time": "2025-02-24T10:40:36.047470",
     "exception": false,
     "start_time": "2025-02-24T10:40:36.018742",
     "status": "completed"
    },
    "tags": []
   },
   "outputs": [],
   "source": [
    "X= train.drop('Transported',axis=1)\n",
    "y= train['Transported']"
   ]
  },
  {
   "cell_type": "code",
   "execution_count": 37,
   "id": "91319c3c",
   "metadata": {
    "execution": {
     "iopub.execute_input": "2025-02-24T10:40:36.087021Z",
     "iopub.status.busy": "2025-02-24T10:40:36.086655Z",
     "iopub.status.idle": "2025-02-24T10:40:36.094922Z",
     "shell.execute_reply": "2025-02-24T10:40:36.093983Z"
    },
    "papermill": {
     "duration": 0.030186,
     "end_time": "2025-02-24T10:40:36.096808",
     "exception": false,
     "start_time": "2025-02-24T10:40:36.066622",
     "status": "completed"
    },
    "tags": []
   },
   "outputs": [],
   "source": [
    "X_train,X_test,y_train,y_test = train_test_split(X,y,test_size=0.2,random_state=42)"
   ]
  },
  {
   "cell_type": "code",
   "execution_count": 38,
   "id": "626500ad",
   "metadata": {
    "execution": {
     "iopub.execute_input": "2025-02-24T10:40:36.136045Z",
     "iopub.status.busy": "2025-02-24T10:40:36.135690Z",
     "iopub.status.idle": "2025-02-24T10:41:25.776530Z",
     "shell.execute_reply": "2025-02-24T10:41:25.775651Z"
    },
    "papermill": {
     "duration": 49.662716,
     "end_time": "2025-02-24T10:41:25.778513",
     "exception": false,
     "start_time": "2025-02-24T10:40:36.115797",
     "status": "completed"
    },
    "tags": []
   },
   "outputs": [
    {
     "name": "stderr",
     "output_type": "stream",
     "text": [
      "[I 2025-02-24 10:40:36,445] A new study created in memory with name: no-name-e78757bf-b367-4d6a-ac80-895db0a5d08b\n",
      "[I 2025-02-24 10:40:37,160] Trial 0 finished with value: 0.7987349051178838 and parameters: {'n_estimators': 1450, 'max_depth': 7, 'learning_rate': 0.06729883715196217, 'subsample': 0.9895078040358087, 'colsample_bytree': 0.5911877084159718, 'gamma': 2.8421737888363117, 'lambda': 4.174698687019044, 'alpha': 0.011002593004709323}. Best is trial 0 with value: 0.7987349051178838.\n",
      "[I 2025-02-24 10:40:37,939] Trial 1 finished with value: 0.7987349051178838 and parameters: {'n_estimators': 1600, 'max_depth': 6, 'learning_rate': 0.04796877882911074, 'subsample': 0.8517146052442535, 'colsample_bytree': 0.8900773133538085, 'gamma': 4.652387967843347, 'lambda': 0.7863010066431355, 'alpha': 0.031033057068454745}. Best is trial 0 with value: 0.7987349051178838.\n",
      "[I 2025-02-24 10:40:40,181] Trial 2 finished with value: 0.8050603795284647 and parameters: {'n_estimators': 1100, 'max_depth': 7, 'learning_rate': 0.07463565194041388, 'subsample': 0.6580647976068343, 'colsample_bytree': 0.9588427670138711, 'gamma': 0.11275360170094673, 'lambda': 1.4570740597833176, 'alpha': 2.286698999178255}. Best is trial 2 with value: 0.8050603795284647.\n",
      "[I 2025-02-24 10:40:40,986] Trial 3 finished with value: 0.7964347326049454 and parameters: {'n_estimators': 1300, 'max_depth': 3, 'learning_rate': 0.04831486365860808, 'subsample': 0.5442953119235017, 'colsample_bytree': 0.8270863239965769, 'gamma': 3.977379832665082, 'lambda': 0.005456577264509983, 'alpha': 0.010542054374279788}. Best is trial 2 with value: 0.8050603795284647.\n",
      "[I 2025-02-24 10:40:42,018] Trial 4 finished with value: 0.8039102932719954 and parameters: {'n_estimators': 750, 'max_depth': 5, 'learning_rate': 0.03955340989696725, 'subsample': 0.8013548813502873, 'colsample_bytree': 0.9764042763930492, 'gamma': 0.36160722246431354, 'lambda': 0.0036476668502560014, 'alpha': 0.015630336793812274}. Best is trial 2 with value: 0.8050603795284647.\n",
      "[I 2025-02-24 10:40:45,261] Trial 5 finished with value: 0.7981598619896493 and parameters: {'n_estimators': 2000, 'max_depth': 5, 'learning_rate': 0.03127709168488271, 'subsample': 0.7511883142915325, 'colsample_bytree': 0.626447085065087, 'gamma': 1.2651432838402994, 'lambda': 0.009130954908613537, 'alpha': 6.221537879876943}. Best is trial 2 with value: 0.8050603795284647.\n",
      "[I 2025-02-24 10:40:45,417] Trial 6 finished with value: 0.7998849913743531 and parameters: {'n_estimators': 100, 'max_depth': 10, 'learning_rate': 0.08646927436045913, 'subsample': 0.7308808229264541, 'colsample_bytree': 0.8788340421591031, 'gamma': 4.100114633796546, 'lambda': 0.023492418539747213, 'alpha': 0.4059569975959198}. Best is trial 2 with value: 0.8050603795284647.\n",
      "[I 2025-02-24 10:40:46,288] Trial 7 finished with value: 0.7987349051178838 and parameters: {'n_estimators': 1200, 'max_depth': 10, 'learning_rate': 0.031105818217398155, 'subsample': 0.7647766378559455, 'colsample_bytree': 0.6378697495878491, 'gamma': 1.823479582726097, 'lambda': 4.384094406419417, 'alpha': 1.6016660525867494}. Best is trial 2 with value: 0.8050603795284647.\n",
      "[I 2025-02-24 10:40:47,019] Trial 8 finished with value: 0.7993099482461185 and parameters: {'n_estimators': 800, 'max_depth': 13, 'learning_rate': 0.03926872329740035, 'subsample': 0.9743382627753052, 'colsample_bytree': 0.7087768279940758, 'gamma': 1.6616811557702083, 'lambda': 0.019615741579437615, 'alpha': 0.08621577498164154}. Best is trial 2 with value: 0.8050603795284647.\n",
      "[I 2025-02-24 10:40:47,247] Trial 9 finished with value: 0.8027602070155262 and parameters: {'n_estimators': 300, 'max_depth': 5, 'learning_rate': 0.2911851916168563, 'subsample': 0.8448233117261412, 'colsample_bytree': 0.7596099232037277, 'gamma': 1.2460981671445954, 'lambda': 1.599180858389333, 'alpha': 0.1609901569213907}. Best is trial 2 with value: 0.8050603795284647.\n",
      "[I 2025-02-24 10:40:49,520] Trial 10 finished with value: 0.8004600345025877 and parameters: {'n_estimators': 800, 'max_depth': 13, 'learning_rate': 0.011667499332420742, 'subsample': 0.5250007742648074, 'colsample_bytree': 0.9979637419814367, 'gamma': 0.1486980992487862, 'lambda': 0.19922914510389192, 'alpha': 6.192911454024568}. Best is trial 2 with value: 0.8050603795284647.\n",
      "[I 2025-02-24 10:40:50,784] Trial 11 finished with value: 0.7924094307073031 and parameters: {'n_estimators': 700, 'max_depth': 8, 'learning_rate': 0.13411554954827318, 'subsample': 0.633387519372974, 'colsample_bytree': 0.9885378866324317, 'gamma': 0.3310659938073502, 'lambda': 0.0015109874278964193, 'alpha': 0.001805937964577717}. Best is trial 2 with value: 0.8050603795284647.\n",
      "[I 2025-02-24 10:40:51,388] Trial 12 finished with value: 0.7929844738355377 and parameters: {'n_estimators': 550, 'max_depth': 3, 'learning_rate': 0.01659198220734863, 'subsample': 0.648897422191822, 'colsample_bytree': 0.9257982508587723, 'gamma': 0.05258699336615765, 'lambda': 0.16169717050147797, 'alpha': 0.0018838367452854749}. Best is trial 2 with value: 0.8050603795284647.\n",
      "[I 2025-02-24 10:40:52,306] Trial 13 finished with value: 0.7964347326049454 and parameters: {'n_estimators': 1000, 'max_depth': 9, 'learning_rate': 0.10983322724794792, 'subsample': 0.6651657259546158, 'colsample_bytree': 0.5100604836502693, 'gamma': 0.7045394015135598, 'lambda': 0.001057521541234884, 'alpha': 0.9860432773806364}. Best is trial 2 with value: 0.8050603795284647.\n",
      "[I 2025-02-24 10:40:52,853] Trial 14 finished with value: 0.8027602070155262 and parameters: {'n_estimators': 1000, 'max_depth': 15, 'learning_rate': 0.1911160407805961, 'subsample': 0.8575221639527704, 'colsample_bytree': 0.8097376262908751, 'gamma': 2.660797722703415, 'lambda': 0.040493151317669514, 'alpha': 0.009361696119930433}. Best is trial 2 with value: 0.8050603795284647.\n",
      "[I 2025-02-24 10:40:55,261] Trial 15 finished with value: 0.7981598619896493 and parameters: {'n_estimators': 1700, 'max_depth': 5, 'learning_rate': 0.024323143315631533, 'subsample': 0.5961928951469986, 'colsample_bytree': 0.9300884422089647, 'gamma': 0.6419412535603147, 'lambda': 1.167023929772618, 'alpha': 0.035649895638647046}. Best is trial 2 with value: 0.8050603795284647.\n",
      "[I 2025-02-24 10:40:55,997] Trial 16 finished with value: 0.8090856814261069 and parameters: {'n_estimators': 550, 'max_depth': 8, 'learning_rate': 0.07196140771810211, 'subsample': 0.7096077750399835, 'colsample_bytree': 0.9425502013998639, 'gamma': 1.0304919652729219, 'lambda': 0.3906400349847431, 'alpha': 1.662166566195501}. Best is trial 16 with value: 0.8090856814261069.\n",
      "[I 2025-02-24 10:40:56,460] Trial 17 finished with value: 0.8004600345025877 and parameters: {'n_estimators': 450, 'max_depth': 11, 'learning_rate': 0.07329647612258675, 'subsample': 0.6998875642897634, 'colsample_bytree': 0.8374946695821391, 'gamma': 2.0804939202169725, 'lambda': 0.41335054034774715, 'alpha': 1.9973503644126094}. Best is trial 16 with value: 0.8090856814261069.\n",
      "[I 2025-02-24 10:40:56,813] Trial 18 finished with value: 0.8004600345025877 and parameters: {'n_estimators': 200, 'max_depth': 7, 'learning_rate': 0.17891141799427884, 'subsample': 0.5848086351207358, 'colsample_bytree': 0.7500179070609508, 'gamma': 1.003558265687789, 'lambda': 8.522414435601677, 'alpha': 0.41279495212962003}. Best is trial 16 with value: 0.8090856814261069.\n",
      "[I 2025-02-24 10:40:57,420] Trial 19 finished with value: 0.79700977573318 and parameters: {'n_estimators': 1150, 'max_depth': 8, 'learning_rate': 0.09413844918950323, 'subsample': 0.6948267093009908, 'colsample_bytree': 0.930081755751029, 'gamma': 3.1154366004895264, 'lambda': 0.09303732549399236, 'alpha': 9.143417670217259}. Best is trial 16 with value: 0.8090856814261069.\n",
      "[I 2025-02-24 10:40:57,706] Trial 20 finished with value: 0.8062104657849338 and parameters: {'n_estimators': 350, 'max_depth': 12, 'learning_rate': 0.14039228508366638, 'subsample': 0.9375599791390318, 'colsample_bytree': 0.8734909530945661, 'gamma': 2.154149566328111, 'lambda': 0.48947927416063697, 'alpha': 2.958014651207604}. Best is trial 16 with value: 0.8090856814261069.\n",
      "[I 2025-02-24 10:40:58,008] Trial 21 finished with value: 0.8004600345025877 and parameters: {'n_estimators': 400, 'max_depth': 12, 'learning_rate': 0.13941619599400645, 'subsample': 0.9182488492184543, 'colsample_bytree': 0.8746545263089914, 'gamma': 2.1806718367073854, 'lambda': 0.4460246695017577, 'alpha': 2.9803158495955597}. Best is trial 16 with value: 0.8090856814261069.\n",
      "[I 2025-02-24 10:40:58,689] Trial 22 finished with value: 0.8004600345025877 and parameters: {'n_estimators': 550, 'max_depth': 15, 'learning_rate': 0.06259721824747694, 'subsample': 0.7961338633061162, 'colsample_bytree': 0.9468287985279465, 'gamma': 1.4760075440612777, 'lambda': 2.8088279375461793, 'alpha': 0.6754655365350012}. Best is trial 16 with value: 0.8090856814261069.\n",
      "[I 2025-02-24 10:40:59,248] Trial 23 finished with value: 0.7998849913743531 and parameters: {'n_estimators': 950, 'max_depth': 9, 'learning_rate': 0.26971968219279857, 'subsample': 0.9399193510965725, 'colsample_bytree': 0.882920711832351, 'gamma': 0.676404866969624, 'lambda': 0.4514164052270787, 'alpha': 3.2512029372021254}. Best is trial 16 with value: 0.8090856814261069.\n",
      "[I 2025-02-24 10:40:59,656] Trial 24 finished with value: 0.7993099482461185 and parameters: {'n_estimators': 550, 'max_depth': 11, 'learning_rate': 0.11990801159395137, 'subsample': 0.6092311342362788, 'colsample_bytree': 0.7964806400325427, 'gamma': 3.352717832902097, 'lambda': 0.06523098714494839, 'alpha': 0.22283461986362055}. Best is trial 16 with value: 0.8090856814261069.\n",
      "[I 2025-02-24 10:41:00,041] Trial 25 finished with value: 0.8027602070155262 and parameters: {'n_estimators': 250, 'max_depth': 7, 'learning_rate': 0.1804279461024747, 'subsample': 0.697865242325117, 'colsample_bytree': 0.9544156302882564, 'gamma': 0.9477367465931903, 'lambda': 0.24642608069203822, 'alpha': 1.036330199837208}. Best is trial 16 with value: 0.8090856814261069.\n",
      "[I 2025-02-24 10:41:00,489] Trial 26 finished with value: 0.8016101207590569 and parameters: {'n_estimators': 650, 'max_depth': 8, 'learning_rate': 0.08172872372143417, 'subsample': 0.9056921301646393, 'colsample_bytree': 0.9065031655625082, 'gamma': 2.2092184378346897, 'lambda': 2.0477218281446135, 'alpha': 3.651318330813238}. Best is trial 16 with value: 0.8090856814261069.\n",
      "[I 2025-02-24 10:41:01,270] Trial 27 finished with value: 0.8050603795284647 and parameters: {'n_estimators': 900, 'max_depth': 13, 'learning_rate': 0.09993253558129937, 'subsample': 0.7783160896733191, 'colsample_bytree': 0.8456322643548314, 'gamma': 1.7731360150495374, 'lambda': 0.9295454146313502, 'alpha': 0.46138883284108473}. Best is trial 16 with value: 0.8090856814261069.\n",
      "[I 2025-02-24 10:41:01,569] Trial 28 finished with value: 0.8004600345025877 and parameters: {'n_estimators': 100, 'max_depth': 10, 'learning_rate': 0.05616717846484726, 'subsample': 0.5579814138183217, 'colsample_bytree': 0.7081702380391234, 'gamma': 1.0752698770840206, 'lambda': 0.6224328670759556, 'alpha': 1.709369095239148}. Best is trial 16 with value: 0.8090856814261069.\n",
      "[I 2025-02-24 10:41:02,309] Trial 29 finished with value: 0.7952846463484762 and parameters: {'n_estimators': 1450, 'max_depth': 6, 'learning_rate': 0.06895973339051836, 'subsample': 0.9872289130439005, 'colsample_bytree': 0.9637683332222984, 'gamma': 2.395835501712274, 'lambda': 5.509657126227489, 'alpha': 9.487414899332027}. Best is trial 16 with value: 0.8090856814261069.\n",
      "[I 2025-02-24 10:41:02,989] Trial 30 finished with value: 0.79700977573318 and parameters: {'n_estimators': 1350, 'max_depth': 9, 'learning_rate': 0.22779531100327222, 'subsample': 0.7166235381393666, 'colsample_bytree': 0.8598211412669602, 'gamma': 2.988638717960814, 'lambda': 0.24256462724392583, 'alpha': 0.9095498351250952}. Best is trial 16 with value: 0.8090856814261069.\n",
      "[I 2025-02-24 10:41:03,416] Trial 31 finished with value: 0.7981598619896493 and parameters: {'n_estimators': 400, 'max_depth': 14, 'learning_rate': 0.09768555660689172, 'subsample': 0.7954807616727441, 'colsample_bytree': 0.7965573833925109, 'gamma': 1.7815472390431406, 'lambda': 1.0038932997817784, 'alpha': 0.3148580355218934}. Best is trial 16 with value: 0.8090856814261069.\n",
      "[I 2025-02-24 10:41:04,161] Trial 32 finished with value: 0.79700977573318 and parameters: {'n_estimators': 900, 'max_depth': 13, 'learning_rate': 0.14863240781872006, 'subsample': 0.6648099646211394, 'colsample_bytree': 0.8507160409101496, 'gamma': 1.4255438804343012, 'lambda': 2.2693464796902787, 'alpha': 0.6202333558871317}. Best is trial 16 with value: 0.8090856814261069.\n",
      "[I 2025-02-24 10:41:04,960] Trial 33 finished with value: 0.8073605520414031 and parameters: {'n_estimators': 1150, 'max_depth': 12, 'learning_rate': 0.10785352317784462, 'subsample': 0.6317240882583934, 'colsample_bytree': 0.8984368015497901, 'gamma': 1.804372633468461, 'lambda': 1.0510436061102215, 'alpha': 2.195452472302006}. Best is trial 16 with value: 0.8090856814261069.\n",
      "[I 2025-02-24 10:41:05,698] Trial 34 finished with value: 0.8027602070155262 and parameters: {'n_estimators': 1100, 'max_depth': 11, 'learning_rate': 0.05099816381581396, 'subsample': 0.6257872837551335, 'colsample_bytree': 0.9065648238983406, 'gamma': 2.7486496571680865, 'lambda': 0.122398099618758, 'alpha': 2.380082958311089}. Best is trial 16 with value: 0.8090856814261069.\n",
      "[I 2025-02-24 10:41:08,174] Trial 35 finished with value: 0.8004600345025877 and parameters: {'n_estimators': 1650, 'max_depth': 12, 'learning_rate': 0.06696060049410361, 'subsample': 0.5016490673015708, 'colsample_bytree': 0.9037242405676195, 'gamma': 0.3544545860635191, 'lambda': 0.6278359026282163, 'alpha': 4.609787862838495}. Best is trial 16 with value: 0.8090856814261069.\n",
      "[I 2025-02-24 10:41:08,949] Trial 36 finished with value: 0.7998849913743531 and parameters: {'n_estimators': 1500, 'max_depth': 6, 'learning_rate': 0.15731270819453083, 'subsample': 0.569046347113555, 'colsample_bytree': 0.9740475859616854, 'gamma': 4.815830399273677, 'lambda': 0.30691482757632366, 'alpha': 1.3732677870299494}. Best is trial 16 with value: 0.8090856814261069.\n",
      "[I 2025-02-24 10:41:09,704] Trial 37 finished with value: 0.7958596894767107 and parameters: {'n_estimators': 1250, 'max_depth': 12, 'learning_rate': 0.040915393084312864, 'subsample': 0.6716165202140011, 'colsample_bytree': 0.947974232068102, 'gamma': 3.448919650012696, 'lambda': 3.325284148260559, 'alpha': 5.236093150269323}. Best is trial 16 with value: 0.8090856814261069.\n",
      "[I 2025-02-24 10:41:10,553] Trial 38 finished with value: 0.7993099482461185 and parameters: {'n_estimators': 1450, 'max_depth': 4, 'learning_rate': 0.11608177212199657, 'subsample': 0.7307837991436708, 'colsample_bytree': 0.9221958334814623, 'gamma': 2.0130987954339736, 'lambda': 1.1765318044318835, 'alpha': 0.09972398354870929}. Best is trial 16 with value: 0.8090856814261069.\n",
      "[I 2025-02-24 10:41:11,723] Trial 39 finished with value: 0.8021851638872916 and parameters: {'n_estimators': 1800, 'max_depth': 10, 'learning_rate': 0.07940444269517669, 'subsample': 0.8412907769367367, 'colsample_bytree': 0.9993455094529999, 'gamma': 1.4296158968722423, 'lambda': 6.206529889746535, 'alpha': 2.3231802590235517}. Best is trial 16 with value: 0.8090856814261069.\n",
      "[I 2025-02-24 10:41:12,567] Trial 40 finished with value: 0.80448533640023 and parameters: {'n_estimators': 1300, 'max_depth': 7, 'learning_rate': 0.04331468198580158, 'subsample': 0.8222665020505117, 'colsample_bytree': 0.8708433399926034, 'gamma': 2.4572937088767004, 'lambda': 1.5389959525558206, 'alpha': 0.18353755650019185}. Best is trial 16 with value: 0.8090856814261069.\n",
      "[I 2025-02-24 10:41:13,204] Trial 41 finished with value: 0.8010350776308223 and parameters: {'n_estimators': 850, 'max_depth': 14, 'learning_rate': 0.09937983721060777, 'subsample': 0.7609995966696281, 'colsample_bytree': 0.8231757598205571, 'gamma': 1.6912198498438786, 'lambda': 0.7243408115973494, 'alpha': 0.5647438781949519}. Best is trial 16 with value: 0.8090856814261069.\n",
      "[I 2025-02-24 10:41:14,136] Trial 42 finished with value: 0.8039102932719954 and parameters: {'n_estimators': 1100, 'max_depth': 14, 'learning_rate': 0.057492785568699856, 'subsample': 0.6222644814807912, 'colsample_bytree': 0.8948083655433975, 'gamma': 1.906179207624072, 'lambda': 0.8443356937785058, 'alpha': 1.2718198820556907}. Best is trial 16 with value: 0.8090856814261069.\n",
      "[I 2025-02-24 10:41:14,768] Trial 43 finished with value: 0.8004600345025877 and parameters: {'n_estimators': 650, 'max_depth': 12, 'learning_rate': 0.11824297544719913, 'subsample': 0.7377653234011179, 'colsample_bytree': 0.7810862353577712, 'gamma': 1.2637010629642111, 'lambda': 1.66719173962399, 'alpha': 0.05432851857852564}. Best is trial 16 with value: 0.8090856814261069.\n",
      "[I 2025-02-24 10:41:15,379] Trial 44 finished with value: 0.7958596894767107 and parameters: {'n_estimators': 1200, 'max_depth': 13, 'learning_rate': 0.08678630068966502, 'subsample': 0.8877012348107785, 'colsample_bytree': 0.842387308807025, 'gamma': 4.3007576307436235, 'lambda': 0.3524510475969886, 'alpha': 4.28447951075871}. Best is trial 16 with value: 0.8090856814261069.\n",
      "[I 2025-02-24 10:41:18,402] Trial 45 finished with value: 0.7993099482461185 and parameters: {'n_estimators': 750, 'max_depth': 8, 'learning_rate': 0.10668926129482355, 'subsample': 0.7770758233902691, 'colsample_bytree': 0.9727615569372262, 'gamma': 0.857295800262616, 'lambda': 3.578305542746579, 'alpha': 0.4146797209205737}. Best is trial 16 with value: 0.8090856814261069.\n",
      "[I 2025-02-24 10:41:19,466] Trial 46 finished with value: 0.8085106382978723 and parameters: {'n_estimators': 1000, 'max_depth': 11, 'learning_rate': 0.03496421125531615, 'subsample': 0.6719612776961464, 'colsample_bytree': 0.9382783680725011, 'gamma': 1.59936173069956, 'lambda': 0.1552037212589013, 'alpha': 2.185450543096436}. Best is trial 16 with value: 0.8090856814261069.\n",
      "[I 2025-02-24 10:41:20,334] Trial 47 finished with value: 0.7952846463484762 and parameters: {'n_estimators': 1050, 'max_depth': 11, 'learning_rate': 0.027894460969703907, 'subsample': 0.6420045915675314, 'colsample_bytree': 0.6809868018971166, 'gamma': 1.5100659140327441, 'lambda': 0.16622428213509707, 'alpha': 6.154819729506417}. Best is trial 16 with value: 0.8090856814261069.\n",
      "[I 2025-02-24 10:41:23,761] Trial 48 finished with value: 0.7993099482461185 and parameters: {'n_estimators': 1350, 'max_depth': 9, 'learning_rate': 0.01859949464284271, 'subsample': 0.6729447312463324, 'colsample_bytree': 0.931707684063569, 'gamma': 0.5023276353507562, 'lambda': 0.04496161504325607, 'alpha': 0.0043727076105616065}. Best is trial 16 with value: 0.8090856814261069.\n",
      "[I 2025-02-24 10:41:25,069] Trial 49 finished with value: 0.80448533640023 and parameters: {'n_estimators': 300, 'max_depth': 10, 'learning_rate': 0.03784471196195163, 'subsample': 0.7145477691319332, 'colsample_bytree': 0.9859452593289446, 'gamma': 0.01863861984706601, 'lambda': 0.012977969877825332, 'alpha': 2.015229165978509}. Best is trial 16 with value: 0.8090856814261069.\n"
     ]
    },
    {
     "name": "stdout",
     "output_type": "stream",
     "text": [
      "Best parameters: {'n_estimators': 550, 'max_depth': 8, 'learning_rate': 0.07196140771810211, 'subsample': 0.7096077750399835, 'colsample_bytree': 0.9425502013998639, 'gamma': 1.0304919652729219, 'lambda': 0.3906400349847431, 'alpha': 1.662166566195501}\n",
      "Final Accuracy: 0.8091\n"
     ]
    }
   ],
   "source": [
    "import xgboost as xgb\n",
    "from sklearn.metrics import accuracy_score\n",
    "import optuna\n",
    "\n",
    "def objective(trial):\n",
    "    params = {\n",
    "        \"n_estimators\": trial.suggest_int(\"n_estimators\", 100, 2000, step=50),\n",
    "        \"max_depth\": trial.suggest_int(\"max_depth\", 3, 15),\n",
    "        \"learning_rate\": trial.suggest_float(\"learning_rate\", 0.01, 0.3, log=True),\n",
    "        \"subsample\": trial.suggest_float(\"subsample\", 0.5, 1.0),\n",
    "        \"colsample_bytree\": trial.suggest_float(\"colsample_bytree\", 0.5, 1.0),\n",
    "        \"gamma\": trial.suggest_float(\"gamma\", 0, 5),\n",
    "        \"lambda\": trial.suggest_float(\"lambda\", 1e-3, 10, log=True),\n",
    "        \"alpha\": trial.suggest_float(\"alpha\", 1e-3, 10, log=True),\n",
    "    }\n",
    "\n",
    "    model = xgb.XGBClassifier(**params, use_label_encoder=False, eval_metric='logloss')\n",
    "\n",
    "    model.fit(X_train, y_train)\n",
    "    y_pred = model.predict(X_test)\n",
    "    \n",
    "    return accuracy_score(y_test, y_pred)\n",
    "\n",
    "# Run optimization\n",
    "study = optuna.create_study(direction=\"maximize\")\n",
    "study.optimize(objective, n_trials=50)\n",
    "\n",
    "# Best params\n",
    "print(\"Best parameters:\", study.best_params)\n",
    "\n",
    "# Train final model with best params\n",
    "best_params = study.best_params\n",
    "model = xgb.XGBClassifier(**best_params, use_label_encoder=False, eval_metric='logloss')\n",
    "model.fit(X_train, y_train)\n",
    "y_pred = model.predict(X_test)\n",
    "\n",
    "# Final accuracy\n",
    "accuracy = accuracy_score(y_test, y_pred)\n",
    "print(f\"Final Accuracy: {accuracy:.4f}\")\n"
   ]
  },
  {
   "cell_type": "code",
   "execution_count": 39,
   "id": "777d118a",
   "metadata": {
    "execution": {
     "iopub.execute_input": "2025-02-24T10:41:25.825481Z",
     "iopub.status.busy": "2025-02-24T10:41:25.825114Z",
     "iopub.status.idle": "2025-02-24T10:41:25.855381Z",
     "shell.execute_reply": "2025-02-24T10:41:25.854245Z"
    },
    "papermill": {
     "duration": 0.056956,
     "end_time": "2025-02-24T10:41:25.857759",
     "exception": false,
     "start_time": "2025-02-24T10:41:25.800803",
     "status": "completed"
    },
    "tags": []
   },
   "outputs": [
    {
     "data": {
      "text/plain": [
       "array([1, 0, 1, ..., 1, 1, 1])"
      ]
     },
     "execution_count": 39,
     "metadata": {},
     "output_type": "execute_result"
    }
   ],
   "source": [
    "xgb_pred = model.predict(test)\n",
    "xgb_pred"
   ]
  },
  {
   "cell_type": "code",
   "execution_count": 40,
   "id": "8efb7f05",
   "metadata": {
    "execution": {
     "iopub.execute_input": "2025-02-24T10:41:25.903534Z",
     "iopub.status.busy": "2025-02-24T10:41:25.903174Z",
     "iopub.status.idle": "2025-02-24T10:41:25.933632Z",
     "shell.execute_reply": "2025-02-24T10:41:25.932588Z"
    },
    "papermill": {
     "duration": 0.055191,
     "end_time": "2025-02-24T10:41:25.935229",
     "exception": false,
     "start_time": "2025-02-24T10:41:25.880038",
     "status": "completed"
    },
    "tags": []
   },
   "outputs": [
    {
     "name": "stdout",
     "output_type": "stream",
     "text": [
      "Files in current directory: ['__notebook__.ipynb', 'submission.csv']\n"
     ]
    },
    {
     "data": {
      "text/html": [
       "<div>\n",
       "<style scoped>\n",
       "    .dataframe tbody tr th:only-of-type {\n",
       "        vertical-align: middle;\n",
       "    }\n",
       "\n",
       "    .dataframe tbody tr th {\n",
       "        vertical-align: top;\n",
       "    }\n",
       "\n",
       "    .dataframe thead th {\n",
       "        text-align: right;\n",
       "    }\n",
       "</style>\n",
       "<table border=\"1\" class=\"dataframe\">\n",
       "  <thead>\n",
       "    <tr style=\"text-align: right;\">\n",
       "      <th></th>\n",
       "      <th>PassengerId</th>\n",
       "      <th>Transported</th>\n",
       "    </tr>\n",
       "  </thead>\n",
       "  <tbody>\n",
       "    <tr>\n",
       "      <th>0</th>\n",
       "      <td>0013_01</td>\n",
       "      <td>True</td>\n",
       "    </tr>\n",
       "    <tr>\n",
       "      <th>1</th>\n",
       "      <td>0018_01</td>\n",
       "      <td>False</td>\n",
       "    </tr>\n",
       "    <tr>\n",
       "      <th>2</th>\n",
       "      <td>0019_01</td>\n",
       "      <td>True</td>\n",
       "    </tr>\n",
       "    <tr>\n",
       "      <th>3</th>\n",
       "      <td>0021_01</td>\n",
       "      <td>True</td>\n",
       "    </tr>\n",
       "    <tr>\n",
       "      <th>4</th>\n",
       "      <td>0023_01</td>\n",
       "      <td>True</td>\n",
       "    </tr>\n",
       "  </tbody>\n",
       "</table>\n",
       "</div>"
      ],
      "text/plain": [
       "  PassengerId  Transported\n",
       "0     0013_01         True\n",
       "1     0018_01        False\n",
       "2     0019_01         True\n",
       "3     0021_01         True\n",
       "4     0023_01         True"
      ]
     },
     "execution_count": 40,
     "metadata": {},
     "output_type": "execute_result"
    }
   ],
   "source": [
    "\n",
    "# Load sample submission\n",
    "Submission = pd.read_csv('/kaggle/input/spaceship-titanic/sample_submission.csv')\n",
    "\n",
    "# Assign predictions\n",
    "Submission['Transported'] = xgb_pred\n",
    "\n",
    "Submission['Transported'] = Submission['Transported'].astype(bool)\n",
    "Submission.to_csv('submission.csv', index=False)\n",
    "\n",
    "\n",
    "# Check if the file exists\n",
    "import os\n",
    "print(\"Files in current directory:\", os.listdir())\n",
    "\n",
    "# Display the saved file\n",
    "Submission.head()\n"
   ]
  },
  {
   "cell_type": "code",
   "execution_count": null,
   "id": "0fc6de81",
   "metadata": {
    "papermill": {
     "duration": 0.022166,
     "end_time": "2025-02-24T10:41:25.980093",
     "exception": false,
     "start_time": "2025-02-24T10:41:25.957927",
     "status": "completed"
    },
    "tags": []
   },
   "outputs": [],
   "source": []
  }
 ],
 "metadata": {
  "kaggle": {
   "accelerator": "none",
   "dataSources": [
    {
     "databundleVersionId": 3220602,
     "sourceId": 34377,
     "sourceType": "competition"
    }
   ],
   "dockerImageVersionId": 30839,
   "isGpuEnabled": false,
   "isInternetEnabled": true,
   "language": "python",
   "sourceType": "notebook"
  },
  "kernelspec": {
   "display_name": "Python 3",
   "language": "python",
   "name": "python3"
  },
  "language_info": {
   "codemirror_mode": {
    "name": "ipython",
    "version": 3
   },
   "file_extension": ".py",
   "mimetype": "text/x-python",
   "name": "python",
   "nbconvert_exporter": "python",
   "pygments_lexer": "ipython3",
   "version": "3.10.12"
  },
  "papermill": {
   "default_parameters": {},
   "duration": 84.67428,
   "end_time": "2025-02-24T10:41:27.727090",
   "environment_variables": {},
   "exception": null,
   "input_path": "__notebook__.ipynb",
   "output_path": "__notebook__.ipynb",
   "parameters": {},
   "start_time": "2025-02-24T10:40:03.052810",
   "version": "2.6.0"
  }
 },
 "nbformat": 4,
 "nbformat_minor": 5
}
